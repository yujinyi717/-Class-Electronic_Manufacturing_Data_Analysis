{
 "cells": [
  {
   "cell_type": "code",
   "execution_count": 6,
   "id": "103f68bf-79b8-4c90-a525-2973da2871bb",
   "metadata": {},
   "outputs": [
    {
     "name": "stdin",
     "output_type": "stream",
     "text": [
      "높이를 입력하세요: 5\n"
     ]
    },
    {
     "name": "stdout",
     "output_type": "stream",
     "text": [
      "*****\n",
      "   *\n",
      "  *\n",
      " *\n",
      "*****\n"
     ]
    }
   ],
   "source": [
    "# 1)\n",
    "num = int(input('높이를 입력하세요:'))\n",
    "                \n",
    "print('*'*num)\n",
    "for i in range(1, num-1): \n",
    "    print(' '*(num-1-i)+'*')\n",
    "print('*'*num)"
   ]
  },
  {
   "cell_type": "code",
   "execution_count": 11,
   "id": "db33cd38-7a51-4441-a63b-a7b6494f33b5",
   "metadata": {},
   "outputs": [
    {
     "name": "stdin",
     "output_type": "stream",
     "text": [
      "문자열을 입력하세요: i am a boy\n"
     ]
    },
    {
     "name": "stdout",
     "output_type": "stream",
     "text": [
      "가장 긴 단어: boy\n"
     ]
    }
   ],
   "source": [
    "# 2) \n",
    "def find_longest_word(list):\n",
    "    s = ''\n",
    "    for i in list:\n",
    "        if len(i) > len(s):\n",
    "            s = i\n",
    "    return s\n",
    "\n",
    "str = input('문자열을 입력하세요:')\n",
    "print('가장 긴 단어: ' + find_longest_word(str.split()))"
   ]
  },
  {
   "cell_type": "code",
   "execution_count": null,
   "id": "26bd326c-d25b-4583-a5b5-a15596327272",
   "metadata": {},
   "outputs": [],
   "source": [
    "# 3) \n",
    "file = open('courses.txt','r')\n",
    "str = input('찾고자 하는 과목명은?')\n",
    "courses = file.readlines()\n",
    "myCourses = sorted([(i+1,s) for i, s in enumerate(courses) if str.upper() in s.upper()], key= lambda x:x[1]) # 소문자를 다 대문자로 바꿈 -> sorted list로 정렬하겠다는 것  \n",
    "print('- 검색된 교과목 수 :' len(myCourses))\n",
    "print()\n",
    "if(len(myCourses)):\n",
    "    for data in myCoursers:\n",
    "        print('-교과목 라인:',data[0])\n",
    "        print('-교과목 명: ', data[1])\n",
    "    else: print('검색된 교과목이 없습니다.')"
   ]
  },
  {
   "cell_type": "code",
   "execution_count": null,
   "id": "83e57ae6-9244-4631-96e8-548a02c23f41",
   "metadata": {},
   "outputs": [],
   "source": [
    "# 4-1) \n",
    "len(table)\n",
    "len(table.columns)"
   ]
  },
  {
   "cell_type": "code",
   "execution_count": null,
   "id": "e61d77c3-3dcc-4b60-9b84-b3361b6cfd35",
   "metadata": {},
   "outputs": [],
   "source": [
    "# 4-2)\n",
    "table.loc[table.dept=='Department of Data Science',['courseName','dept']]"
   ]
  },
  {
   "cell_type": "code",
   "execution_count": null,
   "id": "35556038-3c76-4f0f-b8d1-b460a8a5bcc9",
   "metadata": {},
   "outputs": [],
   "source": [
    "# 4-3)\n",
    "table.loc[table['no.stu']>100,['courseName','no.stu]]"
   ]
  },
  {
   "cell_type": "code",
   "execution_count": 13,
   "id": "ecfa1f6a-3193-4514-b301-b75053590fde",
   "metadata": {},
   "outputs": [],
   "source": [
    "# 4-4)\n",
    "table.loc[table.type=='Major Required Course','no.stu'].sum()"
   ]
  },
  {
   "cell_type": "code",
   "execution_count": null,
   "id": "0a63ab7b-97bb-454e-8456-db784f6ad3d1",
   "metadata": {},
   "outputs": [],
   "source": [
    "# 4-5)\n",
    "table['foreignRatio'] = table['no.foreign']/table['no.stu']"
   ]
  },
  {
   "cell_type": "code",
   "execution_count": null,
   "id": "9169fe53-2565-46a6-8fff-7426f43b2e04",
   "metadata": {},
   "outputs": [],
   "source": [
    "# 4-6)\n",
    "table.loc[(table['no.foreign']>=15)& (table['languge']=='Korean only'),['CouseName','no.stu','no.foreign','foreignRatio','languge']].sort_values(by= 'foreignRatio',ascending = False)"
   ]
  }
 ],
 "metadata": {
  "kernelspec": {
   "display_name": "Python 3",
   "language": "python",
   "name": "python3"
  },
  "language_info": {
   "codemirror_mode": {
    "name": "ipython",
    "version": 3
   },
   "file_extension": ".py",
   "mimetype": "text/x-python",
   "name": "python",
   "nbconvert_exporter": "python",
   "pygments_lexer": "ipython3",
   "version": "3.7.6"
  }
 },
 "nbformat": 4,
 "nbformat_minor": 5
}
