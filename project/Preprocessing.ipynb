{
 "cells": [
  {
   "cell_type": "code",
   "execution_count": 84,
   "id": "59d2e9ff-9b46-4d7d-9f54-5f657050cb0e",
   "metadata": {},
   "outputs": [],
   "source": [
    "import numpy as np\n",
    "import pandas as pd\n",
    "import matplotlib.pyplot as plt\n",
    "import seaborn as sns\n",
    "import platform\n",
    "from matplotlib import font_manager,rc"
   ]
  },
  {
   "cell_type": "code",
   "execution_count": 85,
   "id": "7cc761b3-6132-44b8-8e01-5ee81fcd90eb",
   "metadata": {},
   "outputs": [],
   "source": [
    "# 폰트 깨지지 않게 하는 것 \n",
    "\n",
    "plt.rcParams['axes.unicode_minus']= False\n",
    "\n",
    "if platform.system() == 'Darwin': # 맥os 사용자의 경우에\n",
    "    plt.style.use('seaborn-darkgrid') \n",
    "    rc('font', family = 'AppleGothic')\n",
    "    \n",
    "elif platform.system() == 'Windows':# 윈도우 사용자의 경우에\n",
    "    path = 'c:/Windows/Fonts/malgun.ttf'\n",
    "    font_name = font_manager.FontProperties(fname=path).get_name()\n",
    "    plt.style.use('seaborn-darkgrid') # https://python-graph-gallery.com/199-matplotlib-style-sheets/\n",
    "    rc('font', family=font_name)"
   ]
  },
  {
   "cell_type": "markdown",
   "id": "39ccd4e5-097a-4871-8672-805ffa934fbe",
   "metadata": {},
   "source": [
    "# 1. Press Data"
   ]
  },
  {
   "cell_type": "markdown",
   "id": "2b9b00f3-213a-4cf4-977d-f4f476e943fb",
   "metadata": {},
   "source": [
    "1. 파일 리딩 및 피쳐 정보 분석"
   ]
  },
  {
   "cell_type": "code",
   "execution_count": 86,
   "id": "99ce9c1c-4a85-44a6-b45d-a6dc813910b5",
   "metadata": {},
   "outputs": [
    {
     "data": {
      "text/html": [
       "<div>\n",
       "<style scoped>\n",
       "    .dataframe tbody tr th:only-of-type {\n",
       "        vertical-align: middle;\n",
       "    }\n",
       "\n",
       "    .dataframe tbody tr th {\n",
       "        vertical-align: top;\n",
       "    }\n",
       "\n",
       "    .dataframe thead th {\n",
       "        text-align: right;\n",
       "    }\n",
       "</style>\n",
       "<table border=\"1\" class=\"dataframe\">\n",
       "  <thead>\n",
       "    <tr style=\"text-align: right;\">\n",
       "      <th></th>\n",
       "      <th>idx</th>\n",
       "      <th>Machine_Name</th>\n",
       "      <th>Item No</th>\n",
       "      <th>working time</th>\n",
       "      <th>Press time(ms)</th>\n",
       "      <th>Pressure 1</th>\n",
       "      <th>Pressure 2</th>\n",
       "      <th>Pressure 5</th>\n",
       "    </tr>\n",
       "  </thead>\n",
       "  <tbody>\n",
       "    <tr>\n",
       "      <th>0</th>\n",
       "      <td>1</td>\n",
       "      <td>Press-01</td>\n",
       "      <td>ED5260</td>\n",
       "      <td>2020-05-04 00:00:00</td>\n",
       "      <td>550.0</td>\n",
       "      <td>275.0</td>\n",
       "      <td>274.0</td>\n",
       "      <td>549.0</td>\n",
       "    </tr>\n",
       "    <tr>\n",
       "      <th>1</th>\n",
       "      <td>2</td>\n",
       "      <td>Press-01</td>\n",
       "      <td>ED5260</td>\n",
       "      <td>2020-05-04 00:00:00</td>\n",
       "      <td>550.0</td>\n",
       "      <td>275.0</td>\n",
       "      <td>274.0</td>\n",
       "      <td>549.0</td>\n",
       "    </tr>\n",
       "    <tr>\n",
       "      <th>2</th>\n",
       "      <td>3</td>\n",
       "      <td>Press-01</td>\n",
       "      <td>ED5260</td>\n",
       "      <td>2020-05-04 00:00:00</td>\n",
       "      <td>550.0</td>\n",
       "      <td>275.0</td>\n",
       "      <td>275.0</td>\n",
       "      <td>550.0</td>\n",
       "    </tr>\n",
       "    <tr>\n",
       "      <th>3</th>\n",
       "      <td>4</td>\n",
       "      <td>Press-01</td>\n",
       "      <td>ED5260</td>\n",
       "      <td>2020-05-04 00:00:00</td>\n",
       "      <td>550.0</td>\n",
       "      <td>275.0</td>\n",
       "      <td>275.0</td>\n",
       "      <td>550.0</td>\n",
       "    </tr>\n",
       "    <tr>\n",
       "      <th>4</th>\n",
       "      <td>5</td>\n",
       "      <td>Press-01</td>\n",
       "      <td>ED5260</td>\n",
       "      <td>2020-05-04 00:00:00</td>\n",
       "      <td>549.2</td>\n",
       "      <td>274.6</td>\n",
       "      <td>276.0</td>\n",
       "      <td>550.6</td>\n",
       "    </tr>\n",
       "  </tbody>\n",
       "</table>\n",
       "</div>"
      ],
      "text/plain": [
       "   idx Machine_Name Item No         working time  Press time(ms)  Pressure 1  \\\n",
       "0    1     Press-01  ED5260  2020-05-04 00:00:00           550.0       275.0   \n",
       "1    2     Press-01  ED5260  2020-05-04 00:00:00           550.0       275.0   \n",
       "2    3     Press-01  ED5260  2020-05-04 00:00:00           550.0       275.0   \n",
       "3    4     Press-01  ED5260  2020-05-04 00:00:00           550.0       275.0   \n",
       "4    5     Press-01  ED5260  2020-05-04 00:00:00           549.2       274.6   \n",
       "\n",
       "   Pressure 2  Pressure 5  \n",
       "0       274.0       549.0  \n",
       "1       274.0       549.0  \n",
       "2       275.0       550.0  \n",
       "3       275.0       550.0  \n",
       "4       276.0       550.6  "
      ]
     },
     "execution_count": 86,
     "metadata": {},
     "output_type": "execute_result"
    }
   ],
   "source": [
    "raw_data = pd.read_excel('./Press_RawDataSet.xlsx')\n",
    "raw_data.head()"
   ]
  },
  {
   "cell_type": "code",
   "execution_count": 87,
   "id": "18d18e7a-10a0-433d-9192-7afab3048ec3",
   "metadata": {},
   "outputs": [
    {
     "data": {
      "text/plain": [
       "array(['Press-01'], dtype=object)"
      ]
     },
     "execution_count": 87,
     "metadata": {},
     "output_type": "execute_result"
    }
   ],
   "source": [
    "# 불량 데이터와 달리, press 1에 대한 데이터셋만 존재 \n",
    "raw_data['Machine_Name'].unique()"
   ]
  },
  {
   "cell_type": "code",
   "execution_count": 88,
   "id": "5db121d3-7f7c-43e3-b600-c5bd982575ae",
   "metadata": {},
   "outputs": [
    {
     "data": {
      "text/plain": [
       "array(['ED5260'], dtype=object)"
      ]
     },
     "execution_count": 88,
     "metadata": {},
     "output_type": "execute_result"
    }
   ],
   "source": [
    "raw_data['Item No'].unique()"
   ]
  },
  {
   "cell_type": "code",
   "execution_count": 89,
   "id": "41ad43b8-196f-49cb-82cc-8db99f1edd98",
   "metadata": {},
   "outputs": [],
   "source": [
    "# machine_name, item no 모두 하나 존재 -> press-01 & ED5260에 대한 데이터 셋\n",
    "raw_data = raw_data.drop(columns=['idx','Machine_Name','Item No'],axis=1) "
   ]
  },
  {
   "cell_type": "code",
   "execution_count": 90,
   "id": "11aaf06d-be7d-481d-b00b-dddf3bf5cc51",
   "metadata": {},
   "outputs": [
    {
     "data": {
      "text/html": [
       "<div>\n",
       "<style scoped>\n",
       "    .dataframe tbody tr th:only-of-type {\n",
       "        vertical-align: middle;\n",
       "    }\n",
       "\n",
       "    .dataframe tbody tr th {\n",
       "        vertical-align: top;\n",
       "    }\n",
       "\n",
       "    .dataframe thead th {\n",
       "        text-align: right;\n",
       "    }\n",
       "</style>\n",
       "<table border=\"1\" class=\"dataframe\">\n",
       "  <thead>\n",
       "    <tr style=\"text-align: right;\">\n",
       "      <th></th>\n",
       "      <th>working time</th>\n",
       "      <th>Press time(ms)</th>\n",
       "      <th>Pressure 1</th>\n",
       "      <th>Pressure 2</th>\n",
       "      <th>Pressure 5</th>\n",
       "    </tr>\n",
       "  </thead>\n",
       "  <tbody>\n",
       "    <tr>\n",
       "      <th>0</th>\n",
       "      <td>2020-05-04 00:00:00</td>\n",
       "      <td>550.0</td>\n",
       "      <td>275.0</td>\n",
       "      <td>274.0</td>\n",
       "      <td>549.0</td>\n",
       "    </tr>\n",
       "    <tr>\n",
       "      <th>1</th>\n",
       "      <td>2020-05-04 00:00:00</td>\n",
       "      <td>550.0</td>\n",
       "      <td>275.0</td>\n",
       "      <td>274.0</td>\n",
       "      <td>549.0</td>\n",
       "    </tr>\n",
       "    <tr>\n",
       "      <th>2</th>\n",
       "      <td>2020-05-04 00:00:00</td>\n",
       "      <td>550.0</td>\n",
       "      <td>275.0</td>\n",
       "      <td>275.0</td>\n",
       "      <td>550.0</td>\n",
       "    </tr>\n",
       "    <tr>\n",
       "      <th>3</th>\n",
       "      <td>2020-05-04 00:00:00</td>\n",
       "      <td>550.0</td>\n",
       "      <td>275.0</td>\n",
       "      <td>275.0</td>\n",
       "      <td>550.0</td>\n",
       "    </tr>\n",
       "    <tr>\n",
       "      <th>4</th>\n",
       "      <td>2020-05-04 00:00:00</td>\n",
       "      <td>549.2</td>\n",
       "      <td>274.6</td>\n",
       "      <td>276.0</td>\n",
       "      <td>550.6</td>\n",
       "    </tr>\n",
       "  </tbody>\n",
       "</table>\n",
       "</div>"
      ],
      "text/plain": [
       "          working time  Press time(ms)  Pressure 1  Pressure 2  Pressure 5\n",
       "0  2020-05-04 00:00:00           550.0       275.0       274.0       549.0\n",
       "1  2020-05-04 00:00:00           550.0       275.0       274.0       549.0\n",
       "2  2020-05-04 00:00:00           550.0       275.0       275.0       550.0\n",
       "3  2020-05-04 00:00:00           550.0       275.0       275.0       550.0\n",
       "4  2020-05-04 00:00:00           549.2       274.6       276.0       550.6"
      ]
     },
     "execution_count": 90,
     "metadata": {},
     "output_type": "execute_result"
    }
   ],
   "source": [
    "raw_data.head()"
   ]
  },
  {
   "cell_type": "code",
   "execution_count": 91,
   "id": "1b0a8eb8-14dd-4603-a689-2f35645d0496",
   "metadata": {},
   "outputs": [
    {
     "data": {
      "text/html": [
       "<div>\n",
       "<style scoped>\n",
       "    .dataframe tbody tr th:only-of-type {\n",
       "        vertical-align: middle;\n",
       "    }\n",
       "\n",
       "    .dataframe tbody tr th {\n",
       "        vertical-align: top;\n",
       "    }\n",
       "\n",
       "    .dataframe thead th {\n",
       "        text-align: right;\n",
       "    }\n",
       "</style>\n",
       "<table border=\"1\" class=\"dataframe\">\n",
       "  <thead>\n",
       "    <tr style=\"text-align: right;\">\n",
       "      <th></th>\n",
       "      <th>working time</th>\n",
       "      <th>Press time(ms)</th>\n",
       "      <th>Pressure 1</th>\n",
       "      <th>Pressure 2</th>\n",
       "      <th>Pressure 5</th>\n",
       "    </tr>\n",
       "  </thead>\n",
       "  <tbody>\n",
       "    <tr>\n",
       "      <th>count</th>\n",
       "      <td>64359</td>\n",
       "      <td>64359.000000</td>\n",
       "      <td>64359.000000</td>\n",
       "      <td>64359.000000</td>\n",
       "      <td>64359.000000</td>\n",
       "    </tr>\n",
       "    <tr>\n",
       "      <th>unique</th>\n",
       "      <td>153</td>\n",
       "      <td>NaN</td>\n",
       "      <td>NaN</td>\n",
       "      <td>NaN</td>\n",
       "      <td>NaN</td>\n",
       "    </tr>\n",
       "    <tr>\n",
       "      <th>top</th>\n",
       "      <td>2020-05-20 00:00:00</td>\n",
       "      <td>NaN</td>\n",
       "      <td>NaN</td>\n",
       "      <td>NaN</td>\n",
       "      <td>NaN</td>\n",
       "    </tr>\n",
       "    <tr>\n",
       "      <th>freq</th>\n",
       "      <td>5330</td>\n",
       "      <td>NaN</td>\n",
       "      <td>NaN</td>\n",
       "      <td>NaN</td>\n",
       "      <td>NaN</td>\n",
       "    </tr>\n",
       "    <tr>\n",
       "      <th>mean</th>\n",
       "      <td>NaN</td>\n",
       "      <td>550.131935</td>\n",
       "      <td>275.066278</td>\n",
       "      <td>269.789872</td>\n",
       "      <td>544.856637</td>\n",
       "    </tr>\n",
       "    <tr>\n",
       "      <th>std</th>\n",
       "      <td>NaN</td>\n",
       "      <td>2.069797</td>\n",
       "      <td>1.033677</td>\n",
       "      <td>2.947004</td>\n",
       "      <td>3.209070</td>\n",
       "    </tr>\n",
       "    <tr>\n",
       "      <th>min</th>\n",
       "      <td>NaN</td>\n",
       "      <td>499.000000</td>\n",
       "      <td>249.500000</td>\n",
       "      <td>251.800000</td>\n",
       "      <td>516.900000</td>\n",
       "    </tr>\n",
       "    <tr>\n",
       "      <th>25%</th>\n",
       "      <td>NaN</td>\n",
       "      <td>549.800000</td>\n",
       "      <td>274.900000</td>\n",
       "      <td>267.000000</td>\n",
       "      <td>542.100000</td>\n",
       "    </tr>\n",
       "    <tr>\n",
       "      <th>50%</th>\n",
       "      <td>NaN</td>\n",
       "      <td>550.000000</td>\n",
       "      <td>275.000000</td>\n",
       "      <td>269.000000</td>\n",
       "      <td>543.900000</td>\n",
       "    </tr>\n",
       "    <tr>\n",
       "      <th>75%</th>\n",
       "      <td>NaN</td>\n",
       "      <td>550.400000</td>\n",
       "      <td>275.200000</td>\n",
       "      <td>273.100000</td>\n",
       "      <td>548.100000</td>\n",
       "    </tr>\n",
       "    <tr>\n",
       "      <th>max</th>\n",
       "      <td>NaN</td>\n",
       "      <td>573.800000</td>\n",
       "      <td>286.900000</td>\n",
       "      <td>277.000000</td>\n",
       "      <td>562.500000</td>\n",
       "    </tr>\n",
       "  </tbody>\n",
       "</table>\n",
       "</div>"
      ],
      "text/plain": [
       "               working time  Press time(ms)    Pressure 1    Pressure 2  \\\n",
       "count                 64359    64359.000000  64359.000000  64359.000000   \n",
       "unique                  153             NaN           NaN           NaN   \n",
       "top     2020-05-20 00:00:00             NaN           NaN           NaN   \n",
       "freq                   5330             NaN           NaN           NaN   \n",
       "mean                    NaN      550.131935    275.066278    269.789872   \n",
       "std                     NaN        2.069797      1.033677      2.947004   \n",
       "min                     NaN      499.000000    249.500000    251.800000   \n",
       "25%                     NaN      549.800000    274.900000    267.000000   \n",
       "50%                     NaN      550.000000    275.000000    269.000000   \n",
       "75%                     NaN      550.400000    275.200000    273.100000   \n",
       "max                     NaN      573.800000    286.900000    277.000000   \n",
       "\n",
       "          Pressure 5  \n",
       "count   64359.000000  \n",
       "unique           NaN  \n",
       "top              NaN  \n",
       "freq             NaN  \n",
       "mean      544.856637  \n",
       "std         3.209070  \n",
       "min       516.900000  \n",
       "25%       542.100000  \n",
       "50%       543.900000  \n",
       "75%       548.100000  \n",
       "max       562.500000  "
      ]
     },
     "execution_count": 91,
     "metadata": {},
     "output_type": "execute_result"
    }
   ],
   "source": [
    "raw_data.describe(include='all')"
   ]
  },
  {
   "cell_type": "code",
   "execution_count": 92,
   "id": "567bdec7-0da9-4faf-9785-bca497b0b671",
   "metadata": {},
   "outputs": [
    {
     "name": "stdout",
     "output_type": "stream",
     "text": [
      "<class 'pandas.core.frame.DataFrame'>\n",
      "RangeIndex: 64359 entries, 0 to 64358\n",
      "Data columns (total 5 columns):\n",
      " #   Column          Non-Null Count  Dtype  \n",
      "---  ------          --------------  -----  \n",
      " 0   working time    64359 non-null  object \n",
      " 1   Press time(ms)  64359 non-null  float64\n",
      " 2   Pressure 1      64359 non-null  float64\n",
      " 3   Pressure 2      64359 non-null  float64\n",
      " 4   Pressure 5      64359 non-null  float64\n",
      "dtypes: float64(4), object(1)\n",
      "memory usage: 2.5+ MB\n"
     ]
    }
   ],
   "source": [
    "raw_data.info()\n",
    "# working time이 time의 type이 아님 "
   ]
  },
  {
   "cell_type": "code",
   "execution_count": 93,
   "id": "62976f96-01aa-4c5a-9a51-51fd90f28d88",
   "metadata": {},
   "outputs": [
    {
     "data": {
      "text/plain": [
       "working time      0\n",
       "Press time(ms)    0\n",
       "Pressure 1        0\n",
       "Pressure 2        0\n",
       "Pressure 5        0\n",
       "dtype: int64"
      ]
     },
     "execution_count": 93,
     "metadata": {},
     "output_type": "execute_result"
    }
   ],
   "source": [
    "# 결측치 확인 \n",
    "raw_data.isnull().sum()\n",
    "# raw_data.dropna(axis=0, inplace=True)"
   ]
  },
  {
   "cell_type": "code",
   "execution_count": 98,
   "id": "68353c30-3211-4c7f-bd6e-7f3f793d3367",
   "metadata": {},
   "outputs": [
    {
     "data": {
      "image/png": "[encoded data removed]",
      "text/plain": [
       "<Figure size 432x288 with 2 Axes>"
      ]
     },
     "metadata": {},
     "output_type": "display_data"
    }
   ],
   "source": [
    "# 상관관계 \n",
    "# pressure 2,5의 상관관계가 높음 \n",
    "# pressure time, pressure 1의 상관관계가 높음 \n",
    "\n",
    "sns.heatmap(data = raw_data.corr(), annot =True, fmt ='.2f', linewidths =.5, cmap ='Blues')\n",
    "plt.show()"
   ]
  },
  {
   "cell_type": "code",
   "execution_count": 10,
   "id": "a7fe0560-b519-4826-ada3-c3925401736a",
   "metadata": {},
   "outputs": [
    {
     "data": {
      "text/plain": [
       "<seaborn.axisgrid.PairGrid at 0x205f55b37c0>"
      ]
     },
     "execution_count": 10,
     "metadata": {},
     "output_type": "execute_result"
    },
    {
     "data": {
      "text/plain": [
       "<Figure size 504x360 with 0 Axes>"
      ]
     },
     "metadata": {},
     "output_type": "display_data"
    },
    {
     "data": {
      "image/png": "[encoded data removed]",
      "text/plain": [
       "<Figure size 720x720 with 20 Axes>"
      ]
     },
     "metadata": {},
     "output_type": "display_data"
    }
   ],
   "source": [
    "plt.figure(figsize=(7,5))\n",
    "sns.pairplot(raw_data, palette='husl') "
   ]
  },
  {
   "cell_type": "code",
   "execution_count": 11,
   "id": "342a7b3c-9e97-441b-a5a5-608405795349",
   "metadata": {},
   "outputs": [
    {
     "data": {
      "text/plain": [
       "Index(['working time', 'Press time(ms)', 'Pressure 1', 'Pressure 2',\n",
       "       'Pressure 5'],\n",
       "      dtype='object')"
      ]
     },
     "execution_count": 11,
     "metadata": {},
     "output_type": "execute_result"
    }
   ],
   "source": [
    "raw_data.columns"
   ]
  },
  {
   "cell_type": "markdown",
   "id": "e6ef95f1-5d28-4228-855b-9c5945aff505",
   "metadata": {},
   "source": [
    "2. 날짜 데이터 전처리('2020-05-04', '2020-05-29' -> 특정 기간 추출)"
   ]
  },
  {
   "cell_type": "code",
   "execution_count": 94,
   "id": "1f81d7a8-85e0-45e3-989c-87dc5b71869f",
   "metadata": {},
   "outputs": [
    {
     "data": {
      "text/plain": [
       "'2020-05-04'"
      ]
     },
     "execution_count": 94,
     "metadata": {},
     "output_type": "execute_result"
    }
   ],
   "source": [
    "time = []\n",
    "for i in raw_data['working time']:\n",
    "    j = str(i).replace(' 00:00:00','')\n",
    "    time.append(j)\n",
    "time[0]"
   ]
  },
  {
   "cell_type": "code",
   "execution_count": 95,
   "id": "4015c435-57a6-48b3-8cbf-c25538f663c9",
   "metadata": {},
   "outputs": [
    {
     "data": {
      "text/plain": [
       "0        2020-05-04\n",
       "1        2020-05-04\n",
       "2        2020-05-04\n",
       "3        2020-05-04\n",
       "4        2020-05-04\n",
       "            ...    \n",
       "64354    2020-05-29\n",
       "64355    2020-05-29\n",
       "64356    2020-05-29\n",
       "64357    2020-05-29\n",
       "64358    2020-05-29\n",
       "Name: working time, Length: 64359, dtype: object"
      ]
     },
     "execution_count": 95,
     "metadata": {},
     "output_type": "execute_result"
    }
   ],
   "source": [
    "raw_data['working time'] = time\n",
    "raw_data['working time']"
   ]
  },
  {
   "cell_type": "code",
   "execution_count": 16,
   "id": "865a133a-03dc-4e55-9ccb-1023f2ea9c98",
   "metadata": {},
   "outputs": [
    {
     "data": {
      "text/plain": [
       "array(['2020-05-04', '2020-05-05', '2020-05-06', '2020-05-07',\n",
       "       '2020-05-08', '2020-05-12', '2020-05-13', '2020-05-14',\n",
       "       '2020-05-15', '2020-05-18', '2020-05-20', '2020-05-21',\n",
       "       '2020-05-22', '2020-05-25', '2020-05-26', '00:00:00', '2138-06-15',\n",
       "       '2197-06-24', '2256-07-04', '2315-07-15', '2374-07-24',\n",
       "       '2433-08-02', '2492-08-11', '2551-08-22', '2610-09-01',\n",
       "       '2669-09-10', '2728-09-20', '2787-09-30', '2846-10-09',\n",
       "       '2905-10-19', '2964-10-28', '3023-11-08', '3082-11-17',\n",
       "       '3141-11-27', '3200-12-06', '3259-12-16', '3318-12-26',\n",
       "       '3378-01-04', '3437-01-14', '3496-01-24', '3555-02-03',\n",
       "       '3614-02-12', '3673-02-21', '3732-03-03', '3791-03-13',\n",
       "       '3850-03-23', '3909-04-02', '3968-04-11', '4027-04-21',\n",
       "       '4086-04-30', '4145-05-10', '4204-05-20', '4263-05-30',\n",
       "       '4322-06-09', '4381-06-18', '4440-06-27', '4499-07-07',\n",
       "       '4558-07-17', '4617-07-27', '4676-08-05', '4735-08-16',\n",
       "       '4794-08-25', '4853-09-03', '4912-09-13', '4971-09-23',\n",
       "       '5030-10-03', '5089-10-12', '5148-10-22', '5207-11-01',\n",
       "       '5266-11-10', '5325-11-20', '5384-11-29', '5443-12-10',\n",
       "       '5502-12-20', '5561-12-29', '5621-01-07', '5680-01-17',\n",
       "       '5739-01-27', '5798-02-05', '5857-02-15', '5916-02-26',\n",
       "       '5975-03-07', '6034-03-16', '6093-03-25', '6152-04-04',\n",
       "       '6211-04-15', '6270-04-24', '6329-05-04', '6388-05-13',\n",
       "       '6447-05-23', '6506-06-02', '6565-06-11', '6624-06-21',\n",
       "       '6683-07-01', '6742-07-11', '6801-07-20', '6860-07-29',\n",
       "       '6919-08-09', '6978-08-18', '7037-08-28', '7096-09-06',\n",
       "       '7155-09-17', '7214-09-26', '7273-10-05', '7332-10-15',\n",
       "       '7391-10-25', '7450-11-04', '7509-11-14', '7568-11-23',\n",
       "       '7627-12-03', '7686-12-12', '7745-12-22', '7805-01-01',\n",
       "       '7864-01-11', '7923-01-21', '7982-01-30', '8041-02-08',\n",
       "       '8100-02-18', '8159-02-28', '8218-03-10', '8277-03-19',\n",
       "       '8336-03-29', '8395-04-08', '8454-04-17', '8513-04-27',\n",
       "       '8572-05-06', '8631-05-17', '8690-05-26', '8749-06-05',\n",
       "       '8808-06-14', '8867-06-24', '8926-07-04', '8985-07-13',\n",
       "       '9044-07-23', '9103-08-03', '9162-08-12', '9221-08-21',\n",
       "       '9280-08-30', '9339-09-10', '9398-09-19', '9457-09-29',\n",
       "       '9516-10-09', '9575-10-19', '9634-10-28', '9693-11-06',\n",
       "       '9752-11-16', '9811-11-27', '9870-12-06', '9929-12-16',\n",
       "       '9988-12-25', '2020-05-27', '2020-05-28', '2020-05-29'],\n",
       "      dtype=object)"
      ]
     },
     "execution_count": 16,
     "metadata": {},
     "output_type": "execute_result"
    }
   ],
   "source": [
    "# 날짜 데이터 특정 기간만 추출할 필요가 있다는 것을 알겠군! \n",
    "raw_data['working time'].unique()"
   ]
  },
  {
   "cell_type": "code",
   "execution_count": 87,
   "id": "32b63e4b-1dd2-4ea7-a2a0-713098a569e1",
   "metadata": {},
   "outputs": [
    {
     "data": {
      "text/plain": [
       "array(['2020-05-04', '2020-05-05', '2020-05-06', '2020-05-07',\n",
       "       '2020-05-08', '2020-05-12', '2020-05-13', '2020-05-14',\n",
       "       '2020-05-15', '2020-05-18', '2020-05-20', '2020-05-21',\n",
       "       '2020-05-22', '2020-05-25', '2020-05-26', '2020-05-27',\n",
       "       '2020-05-28', '2020-05-29'], dtype=object)"
      ]
     },
     "execution_count": 87,
     "metadata": {},
     "output_type": "execute_result"
    }
   ],
   "source": [
    "# sol1) 특정 기간의 데이터 추출하기 \n",
    "# new_data_1 = raw_data.loc[raw_data[\"working time\"].between('2020-05-04', '2020-05-29')]\n",
    "# new_data_1['working time'].unique()"
   ]
  },
  {
   "cell_type": "code",
   "execution_count": 18,
   "id": "2779a3aa-76e3-494a-89ce-851da9fd077d",
   "metadata": {},
   "outputs": [
    {
     "data": {
      "text/plain": [
       "array(['2020-05-04', '2020-05-05', '2020-05-06', '2020-05-07',\n",
       "       '2020-05-08', '2020-05-12', '2020-05-13', '2020-05-14',\n",
       "       '2020-05-15', '2020-05-18', '2020-05-20', '2020-05-21',\n",
       "       '2020-05-22', '2020-05-25', '2020-05-26', '2020-05-27',\n",
       "       '2020-05-28', '2020-05-29'], dtype=object)"
      ]
     },
     "execution_count": 18,
     "metadata": {},
     "output_type": "execute_result"
    }
   ],
   "source": [
    "# sol2) 특정 기간의 데이터 추출하기 -> object type 일때 사용 -> 위의 결과랑 동일하게 추출 \n",
    "new_data = raw_data[(raw_data[\"working time\"] >= '2020-05-04') & (raw_data[\"working time\"] <= '2020-05-29')]\n",
    "new_data['working time'].unique()"
   ]
  },
  {
   "cell_type": "code",
   "execution_count": 19,
   "id": "4d691e16-0580-4fd8-9ad0-e61707f464bd",
   "metadata": {},
   "outputs": [],
   "source": [
    "numerical_feature = ['Press time(ms)', 'Pressure 1', 'Pressure 2','Pressure 5']"
   ]
  },
  {
   "cell_type": "markdown",
   "id": "c7ed168e-13b5-498d-afdd-712c146f568b",
   "metadata": {},
   "source": [
    "3. working time과 'Press time(ms)', 'Pressure 1', 'Pressure 2','Pressure 5'의 관계 시각화 - 선그래프"
   ]
  },
  {
   "cell_type": "code",
   "execution_count": 23,
   "id": "2308b47f-2e73-49aa-989f-da398a05b88f",
   "metadata": {},
   "outputs": [
    {
     "data": {
      "image/png": "[encoded data removed]",
      "text/plain": [
       "<Figure size 432x288 with 1 Axes>"
      ]
     },
     "metadata": {},
     "output_type": "display_data"
    },
    {
     "data": {
      "image/png": "[encoded data removed]",
      "text/plain": [
       "<Figure size 432x288 with 1 Axes>"
      ]
     },
     "metadata": {},
     "output_type": "display_data"
    },
    {
     "data": {
      "image/png": "[encoded data removed]",
      "text/plain": [
       "<Figure size 432x288 with 1 Axes>"
      ]
     },
     "metadata": {},
     "output_type": "display_data"
    },
    {
     "data": {
      "image/png": "[encoded data removed]",
      "text/plain": [
       "<Figure size 432x288 with 1 Axes>"
      ]
     },
     "metadata": {},
     "output_type": "display_data"
    }
   ],
   "source": [
    "# x라는 시간축(wroking time)에 따라 y라는 pressure time, pressure 1,2,3의 값이 어떻게 변화하는지 살펴보기 \n",
    "# 왜 press time과 pressure 1의 상관관계가 높은지 / pressure 2와 pressure 5의 상관관계가 높은지 확인 가능 \n",
    "for col in numerical_feature:\n",
    "    plt.plot(new_data['working time'].values, new_data[col].values)\n",
    "    plt.xticks(rotation=45)\n",
    "    plt.title(col)\n",
    "    plt.show()"
   ]
  },
  {
   "cell_type": "markdown",
   "id": "416fe93b-7a25-4090-8510-ad0f218469f6",
   "metadata": {},
   "source": [
    "4. working time과 'Press time(ms)', 'Pressure 1', 'Pressure 2','Pressure 5'의 관계 시각화 - 히스토그램"
   ]
  },
  {
   "cell_type": "code",
   "execution_count": 24,
   "id": "62e0cc7a-4688-44a6-9f26-68ca0931ac41",
   "metadata": {},
   "outputs": [
    {
     "name": "stderr",
     "output_type": "stream",
     "text": [
      "C:\\Users\\wlsdl\\anaconda3\\envs\\class\\lib\\site-packages\\seaborn\\distributions.py:2557: FutureWarning: `distplot` is a deprecated function and will be removed in a future version. Please adapt your code to use either `displot` (a figure-level function with similar flexibility) or `histplot` (an axes-level function for histograms).\n",
      "  warnings.warn(msg, FutureWarning)\n"
     ]
    },
    {
     "data": {
      "image/png": "[encoded data removed]",
      "text/plain": [
       "<Figure size 432x288 with 1 Axes>"
      ]
     },
     "metadata": {},
     "output_type": "display_data"
    },
    {
     "name": "stderr",
     "output_type": "stream",
     "text": [
      "C:\\Users\\wlsdl\\anaconda3\\envs\\class\\lib\\site-packages\\seaborn\\distributions.py:2557: FutureWarning: `distplot` is a deprecated function and will be removed in a future version. Please adapt your code to use either `displot` (a figure-level function with similar flexibility) or `histplot` (an axes-level function for histograms).\n",
      "  warnings.warn(msg, FutureWarning)\n"
     ]
    },
    {
     "data": {
      "image/png": "[encoded data removed]",
      "text/plain": [
       "<Figure size 432x288 with 1 Axes>"
      ]
     },
     "metadata": {},
     "output_type": "display_data"
    },
    {
     "name": "stderr",
     "output_type": "stream",
     "text": [
      "C:\\Users\\wlsdl\\anaconda3\\envs\\class\\lib\\site-packages\\seaborn\\distributions.py:2557: FutureWarning: `distplot` is a deprecated function and will be removed in a future version. Please adapt your code to use either `displot` (a figure-level function with similar flexibility) or `histplot` (an axes-level function for histograms).\n",
      "  warnings.warn(msg, FutureWarning)\n"
     ]
    },
    {
     "data": {
      "image/png": "[encoded data removed]",
      "text/plain": [
       "<Figure size 432x288 with 1 Axes>"
      ]
     },
     "metadata": {},
     "output_type": "display_data"
    },
    {
     "name": "stderr",
     "output_type": "stream",
     "text": [
      "C:\\Users\\wlsdl\\anaconda3\\envs\\class\\lib\\site-packages\\seaborn\\distributions.py:2557: FutureWarning: `distplot` is a deprecated function and will be removed in a future version. Please adapt your code to use either `displot` (a figure-level function with similar flexibility) or `histplot` (an axes-level function for histograms).\n",
      "  warnings.warn(msg, FutureWarning)\n"
     ]
    },
    {
     "data": {
      "image/png": "[encoded data removed]",
      "text/plain": [
       "<Figure size 432x288 with 1 Axes>"
      ]
     },
     "metadata": {},
     "output_type": "display_data"
    }
   ],
   "source": [
    "# 분포, 밀도를 살펴보기위한 histogram 살펴보기 \n",
    "for col in numerical_feature:\n",
    "    sns.distplot(new_data[col])\n",
    "    plt.title(col)\n",
    "    plt.show()"
   ]
  },
  {
   "cell_type": "markdown",
   "id": "103a399c-de97-4e12-894c-054ec555158d",
   "metadata": {},
   "source": [
    "5. working time과 'Press time(ms)', 'Pressure 1', 'Pressure 2','Pressure 5'의 관계 시각화 - bar그래프"
   ]
  },
  {
   "cell_type": "code",
   "execution_count": 103,
   "id": "2d1f9b53-b887-4921-b5fc-92760ee9692f",
   "metadata": {},
   "outputs": [],
   "source": [
    "press_hist = new_data.drop(['working time'], axis=1)"
   ]
  },
  {
   "cell_type": "code",
   "execution_count": 105,
   "id": "57b4d2f2-a964-434f-88f0-8646464e96c6",
   "metadata": {},
   "outputs": [
    {
     "data": {
      "image/png": "[encoded data removed]",
      "text/plain": [
       "<Figure size 720x720 with 4 Axes>"
      ]
     },
     "metadata": {},
     "output_type": "display_data"
    }
   ],
   "source": [
    "plt.figure(figsize = (10,10))\n",
    "\n",
    "# 각 변수의 막대그래프 개수 \n",
    "bin = [20,20,20,20] \n",
    "\n",
    "for index, value in enumerate(press_hist):\n",
    "    sub = plt.subplot(2,2,index +1) \n",
    "    sub.hist(press_hist[value], bins = bin[index], facecolor = (144/255,171/255,221/255), linewidth=.3, edgecolor ='black')\n",
    "    plt.title(value)"
   ]
  },
  {
   "cell_type": "markdown",
   "id": "25e9701a-4605-4b4a-955c-cdffb14a0173",
   "metadata": {},
   "source": [
    "6. working time과 'Press time(ms)', 'Pressure 1', 'Pressure 2','Pressure 5'의 관계 시각화 - baxplot 그래프"
   ]
  },
  {
   "cell_type": "code",
   "execution_count": 107,
   "id": "eb8a8ac8-2fb6-4e81-8c63-3e46319d510f",
   "metadata": {},
   "outputs": [
    {
     "data": {
      "text/plain": [
       "<AxesSubplot:>"
      ]
     },
     "execution_count": 107,
     "metadata": {},
     "output_type": "execute_result"
    },
    {
     "data": {
      "image/png": "[encoded data removed]",
      "text/plain": [
       "<Figure size 432x288 with 1 Axes>"
      ]
     },
     "metadata": {},
     "output_type": "display_data"
    }
   ],
   "source": [
    "# boxplot 살펴보기 \n",
    "new_data[['Pressure 1','Pressure 2','Pressure 5']].plot(kind='box')"
   ]
  },
  {
   "cell_type": "code",
   "execution_count": 108,
   "id": "958f03d3-7dad-4bea-8047-9e8b2ab5ba25",
   "metadata": {},
   "outputs": [
    {
     "data": {
      "text/plain": [
       "<AxesSubplot:>"
      ]
     },
     "execution_count": 108,
     "metadata": {},
     "output_type": "execute_result"
    },
    {
     "data": {
      "image/png": "[encoded data removed]",
      "text/plain": [
       "<Figure size 432x288 with 1 Axes>"
      ]
     },
     "metadata": {},
     "output_type": "display_data"
    }
   ],
   "source": [
    "new_data[['Pressure 1','Pressure 2']].plot(kind='box')"
   ]
  },
  {
   "cell_type": "code",
   "execution_count": 109,
   "id": "cc0b798b-0d88-49ef-9160-04ef6b951761",
   "metadata": {},
   "outputs": [
    {
     "data": {
      "text/plain": [
       "<AxesSubplot:>"
      ]
     },
     "execution_count": 109,
     "metadata": {},
     "output_type": "execute_result"
    },
    {
     "data": {
      "image/png": "[encoded data removed]",
      "text/plain": [
       "<Figure size 432x288 with 1 Axes>"
      ]
     },
     "metadata": {},
     "output_type": "display_data"
    }
   ],
   "source": [
    "new_data['Pressure 5'].plot(kind='box')"
   ]
  },
  {
   "cell_type": "markdown",
   "id": "65eb8fa8-7e78-45c6-932d-7ec5a390eb08",
   "metadata": {
    "tags": []
   },
   "source": [
    "# 2. Error Data"
   ]
  },
  {
   "cell_type": "markdown",
   "id": "4c29ee06-088c-4bdf-875a-52f2163eff87",
   "metadata": {},
   "source": [
    "1. 데이터리딩 및 피쳐 분석 "
   ]
  },
  {
   "cell_type": "code",
   "execution_count": 31,
   "id": "38d46e8e-379b-4821-9715-3b565cc3be5a",
   "metadata": {},
   "outputs": [
    {
     "data": {
      "text/html": [
       "<div>\n",
       "<style scoped>\n",
       "    .dataframe tbody tr th:only-of-type {\n",
       "        vertical-align: middle;\n",
       "    }\n",
       "\n",
       "    .dataframe tbody tr th {\n",
       "        vertical-align: top;\n",
       "    }\n",
       "\n",
       "    .dataframe thead th {\n",
       "        text-align: right;\n",
       "    }\n",
       "</style>\n",
       "<table border=\"1\" class=\"dataframe\">\n",
       "  <thead>\n",
       "    <tr style=\"text-align: right;\">\n",
       "      <th></th>\n",
       "      <th>idx</th>\n",
       "      <th>Machine_Name</th>\n",
       "      <th>Item No</th>\n",
       "      <th>working time</th>\n",
       "      <th>defect</th>\n",
       "      <th>defect type</th>\n",
       "      <th>Unnamed: 6</th>\n",
       "    </tr>\n",
       "  </thead>\n",
       "  <tbody>\n",
       "    <tr>\n",
       "      <th>0</th>\n",
       "      <td>1</td>\n",
       "      <td>Press-01</td>\n",
       "      <td>ED5260</td>\n",
       "      <td>2020-05-04</td>\n",
       "      <td>0</td>\n",
       "      <td>1</td>\n",
       "      <td>주름발생</td>\n",
       "    </tr>\n",
       "    <tr>\n",
       "      <th>1</th>\n",
       "      <td>2</td>\n",
       "      <td>Press-01</td>\n",
       "      <td>ED5260</td>\n",
       "      <td>2020-05-04</td>\n",
       "      <td>1</td>\n",
       "      <td>2</td>\n",
       "      <td>터짐발생</td>\n",
       "    </tr>\n",
       "    <tr>\n",
       "      <th>2</th>\n",
       "      <td>3</td>\n",
       "      <td>Press-01</td>\n",
       "      <td>ED5260</td>\n",
       "      <td>2020-05-04</td>\n",
       "      <td>0</td>\n",
       "      <td>3</td>\n",
       "      <td>버 발생</td>\n",
       "    </tr>\n",
       "    <tr>\n",
       "      <th>3</th>\n",
       "      <td>4</td>\n",
       "      <td>Press-02</td>\n",
       "      <td>ED5260</td>\n",
       "      <td>2020-05-05</td>\n",
       "      <td>1</td>\n",
       "      <td>1</td>\n",
       "      <td>NaN</td>\n",
       "    </tr>\n",
       "    <tr>\n",
       "      <th>4</th>\n",
       "      <td>5</td>\n",
       "      <td>Press-03</td>\n",
       "      <td>ED5260</td>\n",
       "      <td>2020-05-05</td>\n",
       "      <td>1</td>\n",
       "      <td>2</td>\n",
       "      <td>NaN</td>\n",
       "    </tr>\n",
       "  </tbody>\n",
       "</table>\n",
       "</div>"
      ],
      "text/plain": [
       "   idx Machine_Name Item No working time  defect  defect type Unnamed: 6\n",
       "0    1     Press-01  ED5260   2020-05-04       0            1       주름발생\n",
       "1    2     Press-01  ED5260   2020-05-04       1            2       터짐발생\n",
       "2    3     Press-01  ED5260   2020-05-04       0            3       버 발생\n",
       "3    4     Press-02  ED5260   2020-05-05       1            1        NaN\n",
       "4    5     Press-03  ED5260   2020-05-05       1            2        NaN"
      ]
     },
     "execution_count": 31,
     "metadata": {},
     "output_type": "execute_result"
    }
   ],
   "source": [
    "error_data = pd.read_excel('./Press_error.xlsx')\n",
    "error_data.head()"
   ]
  },
  {
   "cell_type": "code",
   "execution_count": 44,
   "id": "4cb1f30c-d683-4a0d-bcf3-113c12888916",
   "metadata": {},
   "outputs": [
    {
     "name": "stdout",
     "output_type": "stream",
     "text": [
      "<class 'pandas.core.frame.DataFrame'>\n",
      "RangeIndex: 57 entries, 0 to 56\n",
      "Data columns (total 7 columns):\n",
      " #   Column        Non-Null Count  Dtype         \n",
      "---  ------        --------------  -----         \n",
      " 0   idx           57 non-null     int64         \n",
      " 1   Machine_Name  57 non-null     object        \n",
      " 2   Item No       57 non-null     object        \n",
      " 3   working time  57 non-null     datetime64[ns]\n",
      " 4   defect        57 non-null     int64         \n",
      " 5   defect type   57 non-null     int64         \n",
      " 6   Unnamed: 6    3 non-null      object        \n",
      "dtypes: datetime64[ns](1), int64(3), object(3)\n",
      "memory usage: 3.2+ KB\n"
     ]
    }
   ],
   "source": [
    "error_data.info()"
   ]
  },
  {
   "cell_type": "code",
   "execution_count": 118,
   "id": "37d9a7d9-3f71-4fe2-b647-8c693c8c7822",
   "metadata": {},
   "outputs": [
    {
     "data": {
      "text/html": [
       "<div>\n",
       "<style scoped>\n",
       "    .dataframe tbody tr th:only-of-type {\n",
       "        vertical-align: middle;\n",
       "    }\n",
       "\n",
       "    .dataframe tbody tr th {\n",
       "        vertical-align: top;\n",
       "    }\n",
       "\n",
       "    .dataframe thead th {\n",
       "        text-align: right;\n",
       "    }\n",
       "</style>\n",
       "<table border=\"1\" class=\"dataframe\">\n",
       "  <thead>\n",
       "    <tr style=\"text-align: right;\">\n",
       "      <th></th>\n",
       "      <th></th>\n",
       "      <th>defect</th>\n",
       "    </tr>\n",
       "    <tr>\n",
       "      <th>Machine_Name</th>\n",
       "      <th>defect type</th>\n",
       "      <th></th>\n",
       "    </tr>\n",
       "  </thead>\n",
       "  <tbody>\n",
       "    <tr>\n",
       "      <th rowspan=\"3\" valign=\"top\">Press-01</th>\n",
       "      <th>1</th>\n",
       "      <td>0</td>\n",
       "    </tr>\n",
       "    <tr>\n",
       "      <th>2</th>\n",
       "      <td>1</td>\n",
       "    </tr>\n",
       "    <tr>\n",
       "      <th>3</th>\n",
       "      <td>0</td>\n",
       "    </tr>\n",
       "    <tr>\n",
       "      <th>Press-02</th>\n",
       "      <th>1</th>\n",
       "      <td>1</td>\n",
       "    </tr>\n",
       "    <tr>\n",
       "      <th>Press-03</th>\n",
       "      <th>2</th>\n",
       "      <td>1</td>\n",
       "    </tr>\n",
       "    <tr>\n",
       "      <th>Press-04</th>\n",
       "      <th>3</th>\n",
       "      <td>0</td>\n",
       "    </tr>\n",
       "    <tr>\n",
       "      <th>Press-05</th>\n",
       "      <th>1</th>\n",
       "      <td>1</td>\n",
       "    </tr>\n",
       "    <tr>\n",
       "      <th>Press-06</th>\n",
       "      <th>2</th>\n",
       "      <td>0</td>\n",
       "    </tr>\n",
       "    <tr>\n",
       "      <th>Press-07</th>\n",
       "      <th>3</th>\n",
       "      <td>0</td>\n",
       "    </tr>\n",
       "    <tr>\n",
       "      <th>Press-08</th>\n",
       "      <th>1</th>\n",
       "      <td>0</td>\n",
       "    </tr>\n",
       "    <tr>\n",
       "      <th>Press-09</th>\n",
       "      <th>2</th>\n",
       "      <td>0</td>\n",
       "    </tr>\n",
       "    <tr>\n",
       "      <th>Press-10</th>\n",
       "      <th>3</th>\n",
       "      <td>1</td>\n",
       "    </tr>\n",
       "    <tr>\n",
       "      <th>Press-11</th>\n",
       "      <th>1</th>\n",
       "      <td>2</td>\n",
       "    </tr>\n",
       "    <tr>\n",
       "      <th>Press-12</th>\n",
       "      <th>2</th>\n",
       "      <td>1</td>\n",
       "    </tr>\n",
       "    <tr>\n",
       "      <th>Press-13</th>\n",
       "      <th>3</th>\n",
       "      <td>0</td>\n",
       "    </tr>\n",
       "    <tr>\n",
       "      <th>Press-14</th>\n",
       "      <th>1</th>\n",
       "      <td>1</td>\n",
       "    </tr>\n",
       "    <tr>\n",
       "      <th>Press-15</th>\n",
       "      <th>2</th>\n",
       "      <td>2</td>\n",
       "    </tr>\n",
       "    <tr>\n",
       "      <th>Press-16</th>\n",
       "      <th>3</th>\n",
       "      <td>1</td>\n",
       "    </tr>\n",
       "    <tr>\n",
       "      <th>Press-17</th>\n",
       "      <th>1</th>\n",
       "      <td>4</td>\n",
       "    </tr>\n",
       "    <tr>\n",
       "      <th>Press-18</th>\n",
       "      <th>2</th>\n",
       "      <td>0</td>\n",
       "    </tr>\n",
       "    <tr>\n",
       "      <th>Press-19</th>\n",
       "      <th>3</th>\n",
       "      <td>0</td>\n",
       "    </tr>\n",
       "    <tr>\n",
       "      <th>Press-20</th>\n",
       "      <th>1</th>\n",
       "      <td>1</td>\n",
       "    </tr>\n",
       "    <tr>\n",
       "      <th>Press-21</th>\n",
       "      <th>2</th>\n",
       "      <td>0</td>\n",
       "    </tr>\n",
       "    <tr>\n",
       "      <th>Press-22</th>\n",
       "      <th>3</th>\n",
       "      <td>1</td>\n",
       "    </tr>\n",
       "    <tr>\n",
       "      <th>Press-23</th>\n",
       "      <th>1</th>\n",
       "      <td>3</td>\n",
       "    </tr>\n",
       "    <tr>\n",
       "      <th>Press-24</th>\n",
       "      <th>2</th>\n",
       "      <td>1</td>\n",
       "    </tr>\n",
       "    <tr>\n",
       "      <th>Press-25</th>\n",
       "      <th>3</th>\n",
       "      <td>0</td>\n",
       "    </tr>\n",
       "    <tr>\n",
       "      <th>Press-26</th>\n",
       "      <th>1</th>\n",
       "      <td>0</td>\n",
       "    </tr>\n",
       "    <tr>\n",
       "      <th>Press-27</th>\n",
       "      <th>2</th>\n",
       "      <td>2</td>\n",
       "    </tr>\n",
       "    <tr>\n",
       "      <th>Press-28</th>\n",
       "      <th>3</th>\n",
       "      <td>0</td>\n",
       "    </tr>\n",
       "    <tr>\n",
       "      <th>Press-29</th>\n",
       "      <th>1</th>\n",
       "      <td>2</td>\n",
       "    </tr>\n",
       "    <tr>\n",
       "      <th>Press-30</th>\n",
       "      <th>2</th>\n",
       "      <td>1</td>\n",
       "    </tr>\n",
       "    <tr>\n",
       "      <th>Press-31</th>\n",
       "      <th>3</th>\n",
       "      <td>0</td>\n",
       "    </tr>\n",
       "    <tr>\n",
       "      <th>Press-32</th>\n",
       "      <th>1</th>\n",
       "      <td>3</td>\n",
       "    </tr>\n",
       "    <tr>\n",
       "      <th>Press-33</th>\n",
       "      <th>2</th>\n",
       "      <td>1</td>\n",
       "    </tr>\n",
       "    <tr>\n",
       "      <th>Press-34</th>\n",
       "      <th>3</th>\n",
       "      <td>1</td>\n",
       "    </tr>\n",
       "    <tr>\n",
       "      <th>Press-35</th>\n",
       "      <th>1</th>\n",
       "      <td>1</td>\n",
       "    </tr>\n",
       "    <tr>\n",
       "      <th>Press-36</th>\n",
       "      <th>2</th>\n",
       "      <td>0</td>\n",
       "    </tr>\n",
       "    <tr>\n",
       "      <th>Press-37</th>\n",
       "      <th>3</th>\n",
       "      <td>1</td>\n",
       "    </tr>\n",
       "    <tr>\n",
       "      <th>Press-38</th>\n",
       "      <th>1</th>\n",
       "      <td>0</td>\n",
       "    </tr>\n",
       "    <tr>\n",
       "      <th>Press-39</th>\n",
       "      <th>2</th>\n",
       "      <td>1</td>\n",
       "    </tr>\n",
       "    <tr>\n",
       "      <th>Press-40</th>\n",
       "      <th>3</th>\n",
       "      <td>2</td>\n",
       "    </tr>\n",
       "    <tr>\n",
       "      <th>Press-41</th>\n",
       "      <th>1</th>\n",
       "      <td>0</td>\n",
       "    </tr>\n",
       "    <tr>\n",
       "      <th>Press-42</th>\n",
       "      <th>2</th>\n",
       "      <td>0</td>\n",
       "    </tr>\n",
       "    <tr>\n",
       "      <th>Press-43</th>\n",
       "      <th>3</th>\n",
       "      <td>0</td>\n",
       "    </tr>\n",
       "    <tr>\n",
       "      <th>Press-44</th>\n",
       "      <th>1</th>\n",
       "      <td>0</td>\n",
       "    </tr>\n",
       "    <tr>\n",
       "      <th>Press-45</th>\n",
       "      <th>2</th>\n",
       "      <td>2</td>\n",
       "    </tr>\n",
       "    <tr>\n",
       "      <th>Press-46</th>\n",
       "      <th>3</th>\n",
       "      <td>1</td>\n",
       "    </tr>\n",
       "    <tr>\n",
       "      <th>Press-47</th>\n",
       "      <th>1</th>\n",
       "      <td>5</td>\n",
       "    </tr>\n",
       "    <tr>\n",
       "      <th>Press-48</th>\n",
       "      <th>2</th>\n",
       "      <td>2</td>\n",
       "    </tr>\n",
       "    <tr>\n",
       "      <th>Press-49</th>\n",
       "      <th>3</th>\n",
       "      <td>1</td>\n",
       "    </tr>\n",
       "    <tr>\n",
       "      <th>Press-50</th>\n",
       "      <th>1</th>\n",
       "      <td>2</td>\n",
       "    </tr>\n",
       "    <tr>\n",
       "      <th>Press-51</th>\n",
       "      <th>2</th>\n",
       "      <td>3</td>\n",
       "    </tr>\n",
       "    <tr>\n",
       "      <th>Press-52</th>\n",
       "      <th>3</th>\n",
       "      <td>0</td>\n",
       "    </tr>\n",
       "    <tr>\n",
       "      <th>Press-53</th>\n",
       "      <th>1</th>\n",
       "      <td>3</td>\n",
       "    </tr>\n",
       "    <tr>\n",
       "      <th>Press-54</th>\n",
       "      <th>2</th>\n",
       "      <td>5</td>\n",
       "    </tr>\n",
       "    <tr>\n",
       "      <th>Press-55</th>\n",
       "      <th>3</th>\n",
       "      <td>2</td>\n",
       "    </tr>\n",
       "  </tbody>\n",
       "</table>\n",
       "</div>"
      ],
      "text/plain": [
       "                          defect\n",
       "Machine_Name defect type        \n",
       "Press-01     1                 0\n",
       "             2                 1\n",
       "             3                 0\n",
       "Press-02     1                 1\n",
       "Press-03     2                 1\n",
       "Press-04     3                 0\n",
       "Press-05     1                 1\n",
       "Press-06     2                 0\n",
       "Press-07     3                 0\n",
       "Press-08     1                 0\n",
       "Press-09     2                 0\n",
       "Press-10     3                 1\n",
       "Press-11     1                 2\n",
       "Press-12     2                 1\n",
       "Press-13     3                 0\n",
       "Press-14     1                 1\n",
       "Press-15     2                 2\n",
       "Press-16     3                 1\n",
       "Press-17     1                 4\n",
       "Press-18     2                 0\n",
       "Press-19     3                 0\n",
       "Press-20     1                 1\n",
       "Press-21     2                 0\n",
       "Press-22     3                 1\n",
       "Press-23     1                 3\n",
       "Press-24     2                 1\n",
       "Press-25     3                 0\n",
       "Press-26     1                 0\n",
       "Press-27     2                 2\n",
       "Press-28     3                 0\n",
       "Press-29     1                 2\n",
       "Press-30     2                 1\n",
       "Press-31     3                 0\n",
       "Press-32     1                 3\n",
       "Press-33     2                 1\n",
       "Press-34     3                 1\n",
       "Press-35     1                 1\n",
       "Press-36     2                 0\n",
       "Press-37     3                 1\n",
       "Press-38     1                 0\n",
       "Press-39     2                 1\n",
       "Press-40     3                 2\n",
       "Press-41     1                 0\n",
       "Press-42     2                 0\n",
       "Press-43     3                 0\n",
       "Press-44     1                 0\n",
       "Press-45     2                 2\n",
       "Press-46     3                 1\n",
       "Press-47     1                 5\n",
       "Press-48     2                 2\n",
       "Press-49     3                 1\n",
       "Press-50     1                 2\n",
       "Press-51     2                 3\n",
       "Press-52     3                 0\n",
       "Press-53     1                 3\n",
       "Press-54     2                 5\n",
       "Press-55     3                 2"
      ]
     },
     "execution_count": 118,
     "metadata": {},
     "output_type": "execute_result"
    }
   ],
   "source": [
    "# 기존 press 데이터와 달리, press기의 종류가 다양\n",
    "# press기기별 defect 타입의 종류 \n",
    "a = error_data.groupby(['Machine_Name', 'defect type']).sum()\n",
    "del a['idx']\n",
    "a"
   ]
  },
  {
   "cell_type": "code",
   "execution_count": 112,
   "id": "a720bf8c-9241-48d4-aa2e-ba4b4464fcc8",
   "metadata": {},
   "outputs": [
    {
     "data": {
      "text/html": [
       "<div>\n",
       "<style scoped>\n",
       "    .dataframe tbody tr th:only-of-type {\n",
       "        vertical-align: middle;\n",
       "    }\n",
       "\n",
       "    .dataframe tbody tr th {\n",
       "        vertical-align: top;\n",
       "    }\n",
       "\n",
       "    .dataframe thead th {\n",
       "        text-align: right;\n",
       "    }\n",
       "</style>\n",
       "<table border=\"1\" class=\"dataframe\">\n",
       "  <thead>\n",
       "    <tr style=\"text-align: right;\">\n",
       "      <th></th>\n",
       "      <th></th>\n",
       "      <th>idx</th>\n",
       "      <th>defect</th>\n",
       "    </tr>\n",
       "    <tr>\n",
       "      <th>working time</th>\n",
       "      <th>defect type</th>\n",
       "      <th></th>\n",
       "      <th></th>\n",
       "    </tr>\n",
       "  </thead>\n",
       "  <tbody>\n",
       "    <tr>\n",
       "      <th rowspan=\"3\" valign=\"top\">2020-05-04</th>\n",
       "      <th>1</th>\n",
       "      <td>1</td>\n",
       "      <td>0</td>\n",
       "    </tr>\n",
       "    <tr>\n",
       "      <th>2</th>\n",
       "      <td>2</td>\n",
       "      <td>1</td>\n",
       "    </tr>\n",
       "    <tr>\n",
       "      <th>3</th>\n",
       "      <td>3</td>\n",
       "      <td>0</td>\n",
       "    </tr>\n",
       "    <tr>\n",
       "      <th rowspan=\"3\" valign=\"top\">2020-05-05</th>\n",
       "      <th>1</th>\n",
       "      <td>4</td>\n",
       "      <td>1</td>\n",
       "    </tr>\n",
       "    <tr>\n",
       "      <th>2</th>\n",
       "      <td>5</td>\n",
       "      <td>1</td>\n",
       "    </tr>\n",
       "    <tr>\n",
       "      <th>3</th>\n",
       "      <td>6</td>\n",
       "      <td>0</td>\n",
       "    </tr>\n",
       "    <tr>\n",
       "      <th rowspan=\"3\" valign=\"top\">2020-05-06</th>\n",
       "      <th>1</th>\n",
       "      <td>7</td>\n",
       "      <td>1</td>\n",
       "    </tr>\n",
       "    <tr>\n",
       "      <th>2</th>\n",
       "      <td>8</td>\n",
       "      <td>0</td>\n",
       "    </tr>\n",
       "    <tr>\n",
       "      <th>3</th>\n",
       "      <td>9</td>\n",
       "      <td>0</td>\n",
       "    </tr>\n",
       "    <tr>\n",
       "      <th rowspan=\"3\" valign=\"top\">2020-05-07</th>\n",
       "      <th>1</th>\n",
       "      <td>10</td>\n",
       "      <td>0</td>\n",
       "    </tr>\n",
       "    <tr>\n",
       "      <th>2</th>\n",
       "      <td>11</td>\n",
       "      <td>0</td>\n",
       "    </tr>\n",
       "    <tr>\n",
       "      <th>3</th>\n",
       "      <td>12</td>\n",
       "      <td>1</td>\n",
       "    </tr>\n",
       "    <tr>\n",
       "      <th rowspan=\"3\" valign=\"top\">2020-05-08</th>\n",
       "      <th>1</th>\n",
       "      <td>13</td>\n",
       "      <td>2</td>\n",
       "    </tr>\n",
       "    <tr>\n",
       "      <th>2</th>\n",
       "      <td>14</td>\n",
       "      <td>1</td>\n",
       "    </tr>\n",
       "    <tr>\n",
       "      <th>3</th>\n",
       "      <td>15</td>\n",
       "      <td>0</td>\n",
       "    </tr>\n",
       "    <tr>\n",
       "      <th rowspan=\"3\" valign=\"top\">2020-05-12</th>\n",
       "      <th>1</th>\n",
       "      <td>16</td>\n",
       "      <td>1</td>\n",
       "    </tr>\n",
       "    <tr>\n",
       "      <th>2</th>\n",
       "      <td>17</td>\n",
       "      <td>2</td>\n",
       "    </tr>\n",
       "    <tr>\n",
       "      <th>3</th>\n",
       "      <td>18</td>\n",
       "      <td>1</td>\n",
       "    </tr>\n",
       "    <tr>\n",
       "      <th rowspan=\"3\" valign=\"top\">2020-05-13</th>\n",
       "      <th>1</th>\n",
       "      <td>19</td>\n",
       "      <td>4</td>\n",
       "    </tr>\n",
       "    <tr>\n",
       "      <th>2</th>\n",
       "      <td>20</td>\n",
       "      <td>0</td>\n",
       "    </tr>\n",
       "    <tr>\n",
       "      <th>3</th>\n",
       "      <td>21</td>\n",
       "      <td>0</td>\n",
       "    </tr>\n",
       "    <tr>\n",
       "      <th rowspan=\"3\" valign=\"top\">2020-05-14</th>\n",
       "      <th>1</th>\n",
       "      <td>22</td>\n",
       "      <td>1</td>\n",
       "    </tr>\n",
       "    <tr>\n",
       "      <th>2</th>\n",
       "      <td>23</td>\n",
       "      <td>0</td>\n",
       "    </tr>\n",
       "    <tr>\n",
       "      <th>3</th>\n",
       "      <td>24</td>\n",
       "      <td>1</td>\n",
       "    </tr>\n",
       "    <tr>\n",
       "      <th rowspan=\"3\" valign=\"top\">2020-05-15</th>\n",
       "      <th>1</th>\n",
       "      <td>25</td>\n",
       "      <td>3</td>\n",
       "    </tr>\n",
       "    <tr>\n",
       "      <th>2</th>\n",
       "      <td>26</td>\n",
       "      <td>1</td>\n",
       "    </tr>\n",
       "    <tr>\n",
       "      <th>3</th>\n",
       "      <td>27</td>\n",
       "      <td>0</td>\n",
       "    </tr>\n",
       "    <tr>\n",
       "      <th rowspan=\"3\" valign=\"top\">2020-05-18</th>\n",
       "      <th>1</th>\n",
       "      <td>28</td>\n",
       "      <td>0</td>\n",
       "    </tr>\n",
       "    <tr>\n",
       "      <th>2</th>\n",
       "      <td>29</td>\n",
       "      <td>2</td>\n",
       "    </tr>\n",
       "    <tr>\n",
       "      <th>3</th>\n",
       "      <td>30</td>\n",
       "      <td>0</td>\n",
       "    </tr>\n",
       "    <tr>\n",
       "      <th rowspan=\"3\" valign=\"top\">2020-05-19</th>\n",
       "      <th>1</th>\n",
       "      <td>31</td>\n",
       "      <td>2</td>\n",
       "    </tr>\n",
       "    <tr>\n",
       "      <th>2</th>\n",
       "      <td>32</td>\n",
       "      <td>1</td>\n",
       "    </tr>\n",
       "    <tr>\n",
       "      <th>3</th>\n",
       "      <td>33</td>\n",
       "      <td>0</td>\n",
       "    </tr>\n",
       "    <tr>\n",
       "      <th rowspan=\"3\" valign=\"top\">2020-05-20</th>\n",
       "      <th>1</th>\n",
       "      <td>34</td>\n",
       "      <td>3</td>\n",
       "    </tr>\n",
       "    <tr>\n",
       "      <th>2</th>\n",
       "      <td>35</td>\n",
       "      <td>1</td>\n",
       "    </tr>\n",
       "    <tr>\n",
       "      <th>3</th>\n",
       "      <td>36</td>\n",
       "      <td>1</td>\n",
       "    </tr>\n",
       "    <tr>\n",
       "      <th rowspan=\"3\" valign=\"top\">2020-05-21</th>\n",
       "      <th>1</th>\n",
       "      <td>37</td>\n",
       "      <td>1</td>\n",
       "    </tr>\n",
       "    <tr>\n",
       "      <th>2</th>\n",
       "      <td>38</td>\n",
       "      <td>0</td>\n",
       "    </tr>\n",
       "    <tr>\n",
       "      <th>3</th>\n",
       "      <td>39</td>\n",
       "      <td>1</td>\n",
       "    </tr>\n",
       "    <tr>\n",
       "      <th rowspan=\"3\" valign=\"top\">2020-05-22</th>\n",
       "      <th>1</th>\n",
       "      <td>40</td>\n",
       "      <td>0</td>\n",
       "    </tr>\n",
       "    <tr>\n",
       "      <th>2</th>\n",
       "      <td>41</td>\n",
       "      <td>1</td>\n",
       "    </tr>\n",
       "    <tr>\n",
       "      <th>3</th>\n",
       "      <td>42</td>\n",
       "      <td>2</td>\n",
       "    </tr>\n",
       "    <tr>\n",
       "      <th rowspan=\"3\" valign=\"top\">2020-05-25</th>\n",
       "      <th>1</th>\n",
       "      <td>43</td>\n",
       "      <td>0</td>\n",
       "    </tr>\n",
       "    <tr>\n",
       "      <th>2</th>\n",
       "      <td>44</td>\n",
       "      <td>0</td>\n",
       "    </tr>\n",
       "    <tr>\n",
       "      <th>3</th>\n",
       "      <td>45</td>\n",
       "      <td>0</td>\n",
       "    </tr>\n",
       "    <tr>\n",
       "      <th rowspan=\"3\" valign=\"top\">2020-05-26</th>\n",
       "      <th>1</th>\n",
       "      <td>46</td>\n",
       "      <td>0</td>\n",
       "    </tr>\n",
       "    <tr>\n",
       "      <th>2</th>\n",
       "      <td>47</td>\n",
       "      <td>2</td>\n",
       "    </tr>\n",
       "    <tr>\n",
       "      <th>3</th>\n",
       "      <td>48</td>\n",
       "      <td>1</td>\n",
       "    </tr>\n",
       "    <tr>\n",
       "      <th rowspan=\"3\" valign=\"top\">2020-05-27</th>\n",
       "      <th>1</th>\n",
       "      <td>49</td>\n",
       "      <td>5</td>\n",
       "    </tr>\n",
       "    <tr>\n",
       "      <th>2</th>\n",
       "      <td>50</td>\n",
       "      <td>2</td>\n",
       "    </tr>\n",
       "    <tr>\n",
       "      <th>3</th>\n",
       "      <td>51</td>\n",
       "      <td>1</td>\n",
       "    </tr>\n",
       "    <tr>\n",
       "      <th rowspan=\"3\" valign=\"top\">2020-05-28</th>\n",
       "      <th>1</th>\n",
       "      <td>52</td>\n",
       "      <td>2</td>\n",
       "    </tr>\n",
       "    <tr>\n",
       "      <th>2</th>\n",
       "      <td>53</td>\n",
       "      <td>3</td>\n",
       "    </tr>\n",
       "    <tr>\n",
       "      <th>3</th>\n",
       "      <td>54</td>\n",
       "      <td>0</td>\n",
       "    </tr>\n",
       "    <tr>\n",
       "      <th rowspan=\"3\" valign=\"top\">2020-05-29</th>\n",
       "      <th>1</th>\n",
       "      <td>55</td>\n",
       "      <td>3</td>\n",
       "    </tr>\n",
       "    <tr>\n",
       "      <th>2</th>\n",
       "      <td>56</td>\n",
       "      <td>5</td>\n",
       "    </tr>\n",
       "    <tr>\n",
       "      <th>3</th>\n",
       "      <td>57</td>\n",
       "      <td>2</td>\n",
       "    </tr>\n",
       "  </tbody>\n",
       "</table>\n",
       "</div>"
      ],
      "text/plain": [
       "                          idx  defect\n",
       "working time defect type             \n",
       "2020-05-04   1              1       0\n",
       "             2              2       1\n",
       "             3              3       0\n",
       "2020-05-05   1              4       1\n",
       "             2              5       1\n",
       "             3              6       0\n",
       "2020-05-06   1              7       1\n",
       "             2              8       0\n",
       "             3              9       0\n",
       "2020-05-07   1             10       0\n",
       "             2             11       0\n",
       "             3             12       1\n",
       "2020-05-08   1             13       2\n",
       "             2             14       1\n",
       "             3             15       0\n",
       "2020-05-12   1             16       1\n",
       "             2             17       2\n",
       "             3             18       1\n",
       "2020-05-13   1             19       4\n",
       "             2             20       0\n",
       "             3             21       0\n",
       "2020-05-14   1             22       1\n",
       "             2             23       0\n",
       "             3             24       1\n",
       "2020-05-15   1             25       3\n",
       "             2             26       1\n",
       "             3             27       0\n",
       "2020-05-18   1             28       0\n",
       "             2             29       2\n",
       "             3             30       0\n",
       "2020-05-19   1             31       2\n",
       "             2             32       1\n",
       "             3             33       0\n",
       "2020-05-20   1             34       3\n",
       "             2             35       1\n",
       "             3             36       1\n",
       "2020-05-21   1             37       1\n",
       "             2             38       0\n",
       "             3             39       1\n",
       "2020-05-22   1             40       0\n",
       "             2             41       1\n",
       "             3             42       2\n",
       "2020-05-25   1             43       0\n",
       "             2             44       0\n",
       "             3             45       0\n",
       "2020-05-26   1             46       0\n",
       "             2             47       2\n",
       "             3             48       1\n",
       "2020-05-27   1             49       5\n",
       "             2             50       2\n",
       "             3             51       1\n",
       "2020-05-28   1             52       2\n",
       "             2             53       3\n",
       "             3             54       0\n",
       "2020-05-29   1             55       3\n",
       "             2             56       5\n",
       "             3             57       2"
      ]
     },
     "execution_count": 112,
     "metadata": {},
     "output_type": "execute_result"
    }
   ],
   "source": [
    "# 날짜별 불량 타입 갯수 파악 \n",
    "error_data.groupby(['working time', 'defect type']).sum()"
   ]
  },
  {
   "cell_type": "code",
   "execution_count": 114,
   "id": "d0e284aa-8d50-4076-970c-596f4e9cf7a8",
   "metadata": {},
   "outputs": [
    {
     "data": {
      "text/plain": [
       "defect type\n",
       "1    29\n",
       "2    23\n",
       "3    11\n",
       "Name: defect, dtype: int64"
      ]
     },
     "execution_count": 114,
     "metadata": {},
     "output_type": "execute_result"
    }
   ],
   "source": [
    "error_data.groupby('defect type')['defect'].sum()"
   ]
  },
  {
   "cell_type": "code",
   "execution_count": 39,
   "id": "10093037-301e-4c49-b410-57ff3b092bda",
   "metadata": {},
   "outputs": [
    {
     "data": {
      "text/plain": [
       "array(['ED5260'], dtype=object)"
      ]
     },
     "execution_count": 39,
     "metadata": {},
     "output_type": "execute_result"
    }
   ],
   "source": [
    "error_data['Item No'].unique()"
   ]
  },
  {
   "cell_type": "code",
   "execution_count": 47,
   "id": "6cbae06a-b034-4919-90a1-a5ecb268307f",
   "metadata": {},
   "outputs": [
    {
     "data": {
      "text/plain": [
       "0    22\n",
       "1    19\n",
       "2     9\n",
       "3     4\n",
       "5     2\n",
       "4     1\n",
       "Name: defect, dtype: int64"
      ]
     },
     "execution_count": 47,
     "metadata": {},
     "output_type": "execute_result"
    }
   ],
   "source": [
    "error_data['defect'].value_counts() # 불량품의 갯수"
   ]
  },
  {
   "cell_type": "code",
   "execution_count": 48,
   "id": "f68714dc-ec23-40bf-8050-54c5b60034e0",
   "metadata": {},
   "outputs": [
    {
     "data": {
      "text/plain": [
       "1    19\n",
       "2    19\n",
       "3    19\n",
       "Name: defect type, dtype: int64"
      ]
     },
     "execution_count": 48,
     "metadata": {},
     "output_type": "execute_result"
    }
   ],
   "source": [
    "error_data['defect type'].value_counts() # 불량의 type"
   ]
  },
  {
   "cell_type": "code",
   "execution_count": 119,
   "id": "add8017e-c735-4dae-b4a1-68563ae6ed86",
   "metadata": {},
   "outputs": [
    {
     "name": "stdout",
     "output_type": "stream",
     "text": [
      "<class 'pandas.core.frame.DataFrame'>\n",
      "RangeIndex: 57 entries, 0 to 56\n",
      "Data columns (total 4 columns):\n",
      " #   Column        Non-Null Count  Dtype         \n",
      "---  ------        --------------  -----         \n",
      " 0   Machine_Name  57 non-null     object        \n",
      " 1   working time  57 non-null     datetime64[ns]\n",
      " 2   defect        57 non-null     int64         \n",
      " 3   defect type   57 non-null     int64         \n",
      "dtypes: datetime64[ns](1), int64(2), object(1)\n",
      "memory usage: 1.9+ KB\n"
     ]
    }
   ],
   "source": [
    "error = error_data.drop(columns=['idx','Item No','Unnamed: 6'],axis=1)\n",
    "error.info()"
   ]
  },
  {
   "cell_type": "code",
   "execution_count": 120,
   "id": "c85ab1b2-9696-406a-99b0-2001c050aa27",
   "metadata": {},
   "outputs": [
    {
     "data": {
      "text/plain": [
       "array(['2020-05-04T00:00:00.000000000', '2020-05-05T00:00:00.000000000',\n",
       "       '2020-05-06T00:00:00.000000000', '2020-05-07T00:00:00.000000000',\n",
       "       '2020-05-08T00:00:00.000000000', '2020-05-12T00:00:00.000000000',\n",
       "       '2020-05-13T00:00:00.000000000', '2020-05-14T00:00:00.000000000',\n",
       "       '2020-05-15T00:00:00.000000000', '2020-05-18T00:00:00.000000000',\n",
       "       '2020-05-19T00:00:00.000000000', '2020-05-20T00:00:00.000000000',\n",
       "       '2020-05-21T00:00:00.000000000', '2020-05-22T00:00:00.000000000',\n",
       "       '2020-05-25T00:00:00.000000000', '2020-05-26T00:00:00.000000000',\n",
       "       '2020-05-27T00:00:00.000000000', '2020-05-28T00:00:00.000000000',\n",
       "       '2020-05-29T00:00:00.000000000'], dtype='datetime64[ns]')"
      ]
     },
     "execution_count": 120,
     "metadata": {},
     "output_type": "execute_result"
    }
   ],
   "source": [
    "# 위의 데이터셋의 시간과 다름 -> 논의해야할 내용 \n",
    "error['working time'].unique()"
   ]
  },
  {
   "cell_type": "code",
   "execution_count": 35,
   "id": "39fc9bb3-68d6-4a21-8c0c-72663ef2b123",
   "metadata": {},
   "outputs": [],
   "source": [
    "# 이미 datetime의 type이기 때문에 할 필요 x \n",
    "# error['working time'] = pd.to_datetime(error['working time'])"
   ]
  },
  {
   "cell_type": "markdown",
   "id": "e95bf01a-ecef-4001-88be-14add6b24ce4",
   "metadata": {},
   "source": [
    "2. working time과 defect의 총합의 관계 시각화 - line 그래프"
   ]
  },
  {
   "cell_type": "code",
   "execution_count": 121,
   "id": "4f40ef04-1ab8-4560-8ab7-349cd4f81336",
   "metadata": {},
   "outputs": [
    {
     "data": {
      "image/png": "[encoded data removed]",
      "text/plain": [
       "<Figure size 1080x720 with 1 Axes>"
      ]
     },
     "metadata": {},
     "output_type": "display_data"
    }
   ],
   "source": [
    "# 5월 29일에 불량품 갯수가 가장 많음 \n",
    "# 선 그래프 \n",
    "\n",
    "x = error['working time'].unique()\n",
    "y = error['defect'].groupby(error['working time']).sum() # working time 별로 defect의 갯수의 합 \n",
    "plt.figure(figsize=(15,10))\n",
    "plt.plot(x,y, color='cornflowerblue')\n",
    "plt.title('날짜 별 총 불량품 개수')\n",
    "plt.show()"
   ]
  },
  {
   "cell_type": "markdown",
   "id": "92d29e43-81da-4884-9f25-5ed52489f90e",
   "metadata": {},
   "source": [
    "3. working time과 defect의 총합의 관계 시각화 - bar 그래프"
   ]
  },
  {
   "cell_type": "code",
   "execution_count": 69,
   "id": "1e607840-4efd-4fca-9e87-574825109dab",
   "metadata": {},
   "outputs": [
    {
     "name": "stderr",
     "output_type": "stream",
     "text": [
      "C:\\Users\\wlsdl\\anaconda3\\envs\\class\\lib\\site-packages\\seaborn\\_decorators.py:36: FutureWarning: Pass the following variables as keyword args: x, y. From version 0.12, the only valid positional argument will be `data`, and passing other arguments without an explicit keyword will result in an error or misinterpretation.\n",
      "  warnings.warn(\n"
     ]
    },
    {
     "data": {
      "image/png": "[encoded data removed]",
      "text/plain": [
       "<Figure size 1080x720 with 1 Axes>"
      ]
     },
     "metadata": {},
     "output_type": "display_data"
    }
   ],
   "source": [
    "# barplot -> 막대그래프 \n",
    "\n",
    "x = error['working time'].unique()\n",
    "y = error['defect'].groupby(error['working time']).sum()\n",
    "plt.figure(figsize=(15,10))\n",
    "sns.barplot(x,y, color='cornflowerblue')\n",
    "plt.title('날짜 별 총 불량품 개수')\n",
    "plt.xticks(rotation = 45)\n",
    "plt.show()"
   ]
  },
  {
   "cell_type": "markdown",
   "id": "c98928d0-5b1c-4ee2-975c-0df792f5bb99",
   "metadata": {},
   "source": [
    "4. machine name과 defect의 총합의 관계 시각화 - bar 그래프"
   ]
  },
  {
   "cell_type": "code",
   "execution_count": 123,
   "id": "1f6974e5-91c6-402c-989d-e7bb7c8562cb",
   "metadata": {},
   "outputs": [
    {
     "name": "stderr",
     "output_type": "stream",
     "text": [
      "C:\\Users\\wlsdl\\anaconda3\\envs\\class\\lib\\site-packages\\seaborn\\_decorators.py:36: FutureWarning: Pass the following variables as keyword args: x, y. From version 0.12, the only valid positional argument will be `data`, and passing other arguments without an explicit keyword will result in an error or misinterpretation.\n",
      "  warnings.warn(\n"
     ]
    },
    {
     "data": {
      "image/png": "[encoded data removed]",
      "text/plain": [
       "<Figure size 1080x720 with 1 Axes>"
      ]
     },
     "metadata": {},
     "output_type": "display_data"
    }
   ],
   "source": [
    "# barplot -> 막대그래프\n",
    "\n",
    "x = error['Machine_Name'].unique()\n",
    "y = error['defect'].groupby(error['Machine_Name']).sum()\n",
    "plt.figure(figsize=(15,10))\n",
    "sns.barplot(x,y, color='cornflowerblue')\n",
    "plt.title('기기별 총 불량품 개수')\n",
    "plt.xticks(rotation = 45)\n",
    "plt.show()"
   ]
  },
  {
   "cell_type": "markdown",
   "id": "e193d263-480b-4fb3-8d67-9198bfb46ec5",
   "metadata": {},
   "source": [
    "5. machine name과 각각의 defect type의 관계 시각화 - bar 그래프"
   ]
  },
  {
   "cell_type": "code",
   "execution_count": 124,
   "id": "3c0aa350-558c-49c4-86e2-4c8b2d53ad72",
   "metadata": {},
   "outputs": [
    {
     "name": "stderr",
     "output_type": "stream",
     "text": [
      "C:\\Users\\wlsdl\\anaconda3\\envs\\class\\lib\\site-packages\\seaborn\\_decorators.py:36: FutureWarning: Pass the following variables as keyword args: x, y. From version 0.12, the only valid positional argument will be `data`, and passing other arguments without an explicit keyword will result in an error or misinterpretation.\n",
      "  warnings.warn(\n"
     ]
    },
    {
     "data": {
      "image/png": "[encoded data removed]",
      "text/plain": [
       "<Figure size 2520x720 with 1 Axes>"
      ]
     },
     "metadata": {},
     "output_type": "display_data"
    }
   ],
   "source": [
    "# 기기별 불량 타입 \n",
    "\n",
    "plt.figure(figsize=(35,10))\n",
    "sns.barplot(error['Machine_Name'], error['defect'],hue=error['defect type'],palette= 'Set1' ,alpha=0.6)\n",
    "plt.xticks(rotation = 90)\n",
    "plt.show()"
   ]
  },
  {
   "cell_type": "markdown",
   "id": "0f28a899-e17a-4747-97b7-bd8d90f24fe9",
   "metadata": {},
   "source": [
    "6. 불량유형 별 총 불량품 개수 시각화 - bar 그래프"
   ]
  },
  {
   "cell_type": "code",
   "execution_count": 81,
   "id": "7e9ba0c6-dac6-4a02-93b2-b3c8903c5468",
   "metadata": {},
   "outputs": [
    {
     "name": "stdout",
     "output_type": "stream",
     "text": [
      "defect type\n",
      "1    29\n",
      "2    23\n",
      "3    11\n",
      "Name: defect, dtype: int64\n"
     ]
    },
    {
     "name": "stderr",
     "output_type": "stream",
     "text": [
      "C:\\Users\\wlsdl\\anaconda3\\envs\\class\\lib\\site-packages\\seaborn\\_decorators.py:36: FutureWarning: Pass the following variables as keyword args: x, y. From version 0.12, the only valid positional argument will be `data`, and passing other arguments without an explicit keyword will result in an error or misinterpretation.\n",
      "  warnings.warn(\n"
     ]
    },
    {
     "data": {
      "image/png": "[encoded data removed]",
      "text/plain": [
       "<Figure size 1080x720 with 1 Axes>"
      ]
     },
     "metadata": {},
     "output_type": "display_data"
    }
   ],
   "source": [
    "x = error['defect type'].unique()\n",
    "y = error['defect'].groupby(error['defect type']).sum()\n",
    "print(y)\n",
    "plt.figure(figsize=(15,10))\n",
    "sns.barplot(x,y, color='cornflowerblue')\n",
    "plt.title('불량유형 별 총 불량품 개수')\n",
    "plt.show()"
   ]
  },
  {
   "cell_type": "code",
   "execution_count": null,
   "id": "0b11f6b6-259d-4801-9e58-f2c4b9582184",
   "metadata": {},
   "outputs": [],
   "source": []
  }
 ],
 "metadata": {
  "kernelspec": {
   "display_name": "Python 3",
   "language": "python",
   "name": "python3"
  },
  "language_info": {
   "codemirror_mode": {
    "name": "ipython",
    "version": 3
   },
   "file_extension": ".py",
   "mimetype": "text/x-python",
   "name": "python",
   "nbconvert_exporter": "python",
   "pygments_lexer": "ipython3",
   "version": "3.8.8"
  }
 },
 "nbformat": 4,
 "nbformat_minor": 5
}
