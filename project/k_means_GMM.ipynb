{
 "cells": [
  {
   "cell_type": "code",
   "execution_count": 1,
   "id": "61018506-52d2-4e73-b499-596cf5b05a0f",
   "metadata": {
    "tags": []
   },
   "outputs": [],
   "source": [
    "import numpy as np\n",
    "import pandas as pd\n",
    "import matplotlib.pyplot as plt\n",
    "import seaborn as sns\n",
    "import platform\n",
    "from matplotlib import font_manager,rc\n",
    "from sklearn.preprocessing import StandardScaler\n",
    "from sklearn.mixture import GaussianMixture\n",
    "from termcolor import colored as cl # text customization\n",
    "from mpl_toolkits.mplot3d import Axes3D # 3d plot"
   ]
  },
  {
   "cell_type": "code",
   "execution_count": 2,
   "id": "fdceb7e4-9075-41f4-9ed4-bcb9d8991720",
   "metadata": {},
   "outputs": [],
   "source": [
    "# 폰트 깨지지 않게 하는 것 \n",
    "\n",
    "plt.rcParams['axes.unicode_minus']= False\n",
    "\n",
    "if platform.system() == 'Darwin': # 맥os 사용자의 경우에\n",
    "    plt.style.use('seaborn-darkgrid') \n",
    "    rc('font', family = 'AppleGothic')\n",
    "    \n",
    "elif platform.system() == 'Windows':# 윈도우 사용자의 경우에\n",
    "    path = 'c:/Windows/Fonts/malgun.ttf'\n",
    "    font_name = font_manager.FontProperties(fname=path).get_name()\n",
    "    plt.style.use('seaborn-darkgrid') # https://python-graph-gallery.com/199-matplotlib-style-sheets/\n",
    "    rc('font', family=font_name)"
   ]
  },
  {
   "cell_type": "markdown",
   "id": "40c53143-8777-4ed2-ab27-fb5ef816c7bf",
   "metadata": {},
   "source": [
    "# 1. 파일 리딩"
   ]
  },
  {
   "cell_type": "code",
   "execution_count": 3,
   "id": "3b48c50f-0d4d-4da3-b362-7ff333b454be",
   "metadata": {},
   "outputs": [
    {
     "data": {
      "text/html": [
       "<div>\n",
       "<style scoped>\n",
       "    .dataframe tbody tr th:only-of-type {\n",
       "        vertical-align: middle;\n",
       "    }\n",
       "\n",
       "    .dataframe tbody tr th {\n",
       "        vertical-align: top;\n",
       "    }\n",
       "\n",
       "    .dataframe thead th {\n",
       "        text-align: right;\n",
       "    }\n",
       "</style>\n",
       "<table border=\"1\" class=\"dataframe\">\n",
       "  <thead>\n",
       "    <tr style=\"text-align: right;\">\n",
       "      <th></th>\n",
       "      <th>idx</th>\n",
       "      <th>Machine_Name</th>\n",
       "      <th>Item No</th>\n",
       "      <th>working time</th>\n",
       "      <th>Press time(ms)</th>\n",
       "      <th>Pressure 1</th>\n",
       "      <th>Pressure 2</th>\n",
       "      <th>Pressure 5</th>\n",
       "    </tr>\n",
       "  </thead>\n",
       "  <tbody>\n",
       "    <tr>\n",
       "      <th>0</th>\n",
       "      <td>1</td>\n",
       "      <td>Press-01</td>\n",
       "      <td>ED5260</td>\n",
       "      <td>2020-05-04 00:00:00</td>\n",
       "      <td>550.0</td>\n",
       "      <td>275.0</td>\n",
       "      <td>274.0</td>\n",
       "      <td>549.0</td>\n",
       "    </tr>\n",
       "    <tr>\n",
       "      <th>1</th>\n",
       "      <td>2</td>\n",
       "      <td>Press-01</td>\n",
       "      <td>ED5260</td>\n",
       "      <td>2020-05-04 00:00:00</td>\n",
       "      <td>550.0</td>\n",
       "      <td>275.0</td>\n",
       "      <td>274.0</td>\n",
       "      <td>549.0</td>\n",
       "    </tr>\n",
       "    <tr>\n",
       "      <th>2</th>\n",
       "      <td>3</td>\n",
       "      <td>Press-01</td>\n",
       "      <td>ED5260</td>\n",
       "      <td>2020-05-04 00:00:00</td>\n",
       "      <td>550.0</td>\n",
       "      <td>275.0</td>\n",
       "      <td>275.0</td>\n",
       "      <td>550.0</td>\n",
       "    </tr>\n",
       "    <tr>\n",
       "      <th>3</th>\n",
       "      <td>4</td>\n",
       "      <td>Press-01</td>\n",
       "      <td>ED5260</td>\n",
       "      <td>2020-05-04 00:00:00</td>\n",
       "      <td>550.0</td>\n",
       "      <td>275.0</td>\n",
       "      <td>275.0</td>\n",
       "      <td>550.0</td>\n",
       "    </tr>\n",
       "    <tr>\n",
       "      <th>4</th>\n",
       "      <td>5</td>\n",
       "      <td>Press-01</td>\n",
       "      <td>ED5260</td>\n",
       "      <td>2020-05-04 00:00:00</td>\n",
       "      <td>549.2</td>\n",
       "      <td>274.6</td>\n",
       "      <td>276.0</td>\n",
       "      <td>550.6</td>\n",
       "    </tr>\n",
       "  </tbody>\n",
       "</table>\n",
       "</div>"
      ],
      "text/plain": [
       "   idx Machine_Name Item No         working time  Press time(ms)  Pressure 1  \\\n",
       "0    1     Press-01  ED5260  2020-05-04 00:00:00           550.0       275.0   \n",
       "1    2     Press-01  ED5260  2020-05-04 00:00:00           550.0       275.0   \n",
       "2    3     Press-01  ED5260  2020-05-04 00:00:00           550.0       275.0   \n",
       "3    4     Press-01  ED5260  2020-05-04 00:00:00           550.0       275.0   \n",
       "4    5     Press-01  ED5260  2020-05-04 00:00:00           549.2       274.6   \n",
       "\n",
       "   Pressure 2  Pressure 5  \n",
       "0       274.0       549.0  \n",
       "1       274.0       549.0  \n",
       "2       275.0       550.0  \n",
       "3       275.0       550.0  \n",
       "4       276.0       550.6  "
      ]
     },
     "execution_count": 3,
     "metadata": {},
     "output_type": "execute_result"
    }
   ],
   "source": [
    "raw_data = pd.read_excel('./Press_RawDataSet.xlsx')\n",
    "raw_data.head()"
   ]
  },
  {
   "cell_type": "markdown",
   "id": "1b8a0c27-eb36-42f5-80b3-ca314e48bcbd",
   "metadata": {},
   "source": [
    "# 2. 전처리"
   ]
  },
  {
   "cell_type": "code",
   "execution_count": 4,
   "id": "42512f72-83a9-409e-a684-f19232d95d4f",
   "metadata": {},
   "outputs": [],
   "source": [
    "# 시,분,초 제거 \n",
    "\n",
    "time = []\n",
    "for i in raw_data['working time']:\n",
    "    j = str(i).replace(' 00:00:00','')\n",
    "    time.append(j)\n",
    "# time[0]\n",
    "\n",
    "raw_data['working time'] = time"
   ]
  },
  {
   "cell_type": "code",
   "execution_count": 5,
   "id": "6f556f96-70fa-49e8-8f18-7c5da6b6f545",
   "metadata": {},
   "outputs": [
    {
     "name": "stdout",
     "output_type": "stream",
     "text": [
      "<class 'pandas.core.frame.DataFrame'>\n",
      "RangeIndex: 64359 entries, 0 to 64358\n",
      "Data columns (total 8 columns):\n",
      " #   Column          Non-Null Count  Dtype  \n",
      "---  ------          --------------  -----  \n",
      " 0   idx             64359 non-null  int64  \n",
      " 1   Machine_Name    64359 non-null  object \n",
      " 2   Item No         64359 non-null  object \n",
      " 3   working time    64359 non-null  object \n",
      " 4   Press time(ms)  64359 non-null  float64\n",
      " 5   Pressure 1      64359 non-null  float64\n",
      " 6   Pressure 2      64359 non-null  float64\n",
      " 7   Pressure 5      64359 non-null  float64\n",
      "dtypes: float64(4), int64(1), object(3)\n",
      "memory usage: 3.9+ MB\n"
     ]
    }
   ],
   "source": [
    "raw_data.info()"
   ]
  },
  {
   "cell_type": "code",
   "execution_count": 6,
   "id": "7538a54d-0ed4-49d4-baa9-2b46f990ec9e",
   "metadata": {},
   "outputs": [
    {
     "data": {
      "text/plain": [
       "array(['2020-05-04', '2020-05-05', '2020-05-06', '2020-05-07',\n",
       "       '2020-05-08', '2020-05-12', '2020-05-13', '2020-05-14',\n",
       "       '2020-05-15', '2020-05-18', '2020-05-20', '2020-05-21',\n",
       "       '2020-05-22', '2020-05-25', '2020-05-26', '2020-05-27',\n",
       "       '2020-05-28', '2020-05-29'], dtype=object)"
      ]
     },
     "execution_count": 6,
     "metadata": {},
     "output_type": "execute_result"
    }
   ],
   "source": [
    "# 특정 날짜 추출 '2020-05-04', '2020-05-29' 사이\n",
    "new_data = raw_data[(raw_data[\"working time\"] >= '2020-05-04') & (raw_data[\"working time\"] <= '2020-05-29')]\n",
    "new_data['working time'].unique()\n",
    "\n",
    "# cf sol2) 특정 기간의 데이터 추출하기 -> between 사용 \n",
    "# new_data_1 = raw_data.loc[raw_data[\"working time\"].between('2020-05-04', '2020-05-29')]\n",
    "# new_data_1['working time'].unique()"
   ]
  },
  {
   "cell_type": "code",
   "execution_count": 7,
   "id": "a6bb5c45-2b3e-402e-9dfc-e7bff4f154a1",
   "metadata": {},
   "outputs": [
    {
     "data": {
      "text/html": [
       "<div>\n",
       "<style scoped>\n",
       "    .dataframe tbody tr th:only-of-type {\n",
       "        vertical-align: middle;\n",
       "    }\n",
       "\n",
       "    .dataframe tbody tr th {\n",
       "        vertical-align: top;\n",
       "    }\n",
       "\n",
       "    .dataframe thead th {\n",
       "        text-align: right;\n",
       "    }\n",
       "</style>\n",
       "<table border=\"1\" class=\"dataframe\">\n",
       "  <thead>\n",
       "    <tr style=\"text-align: right;\">\n",
       "      <th></th>\n",
       "      <th>Pressure 1</th>\n",
       "      <th>Pressure 2</th>\n",
       "    </tr>\n",
       "  </thead>\n",
       "  <tbody>\n",
       "    <tr>\n",
       "      <th>0</th>\n",
       "      <td>275.0</td>\n",
       "      <td>274.0</td>\n",
       "    </tr>\n",
       "    <tr>\n",
       "      <th>1</th>\n",
       "      <td>275.0</td>\n",
       "      <td>274.0</td>\n",
       "    </tr>\n",
       "    <tr>\n",
       "      <th>2</th>\n",
       "      <td>275.0</td>\n",
       "      <td>275.0</td>\n",
       "    </tr>\n",
       "    <tr>\n",
       "      <th>3</th>\n",
       "      <td>275.0</td>\n",
       "      <td>275.0</td>\n",
       "    </tr>\n",
       "    <tr>\n",
       "      <th>4</th>\n",
       "      <td>274.6</td>\n",
       "      <td>276.0</td>\n",
       "    </tr>\n",
       "    <tr>\n",
       "      <th>...</th>\n",
       "      <td>...</td>\n",
       "      <td>...</td>\n",
       "    </tr>\n",
       "    <tr>\n",
       "      <th>62720</th>\n",
       "      <td>275.0</td>\n",
       "      <td>267.0</td>\n",
       "    </tr>\n",
       "    <tr>\n",
       "      <th>62721</th>\n",
       "      <td>274.9</td>\n",
       "      <td>269.0</td>\n",
       "    </tr>\n",
       "    <tr>\n",
       "      <th>62722</th>\n",
       "      <td>274.9</td>\n",
       "      <td>269.0</td>\n",
       "    </tr>\n",
       "    <tr>\n",
       "      <th>62723</th>\n",
       "      <td>275.3</td>\n",
       "      <td>267.0</td>\n",
       "    </tr>\n",
       "    <tr>\n",
       "      <th>62724</th>\n",
       "      <td>275.3</td>\n",
       "      <td>267.0</td>\n",
       "    </tr>\n",
       "  </tbody>\n",
       "</table>\n",
       "<p>62725 rows × 2 columns</p>\n",
       "</div>"
      ],
      "text/plain": [
       "       Pressure 1  Pressure 2\n",
       "0           275.0       274.0\n",
       "1           275.0       274.0\n",
       "2           275.0       275.0\n",
       "3           275.0       275.0\n",
       "4           274.6       276.0\n",
       "...           ...         ...\n",
       "62720       275.0       267.0\n",
       "62721       274.9       269.0\n",
       "62722       274.9       269.0\n",
       "62723       275.3       267.0\n",
       "62724       275.3       267.0\n",
       "\n",
       "[62725 rows x 2 columns]"
      ]
     },
     "execution_count": 7,
     "metadata": {},
     "output_type": "execute_result"
    }
   ],
   "source": [
    "# 특정 열 추출 \n",
    "new_data = new_data.drop(columns=['idx','Machine_Name','Item No','working time','Press time(ms)','Pressure 5'],axis=1) \n",
    "new_data = new_data.reset_index(drop=True)\n",
    "new_data"
   ]
  },
  {
   "cell_type": "markdown",
   "id": "0c97f5ad-8055-45e5-ad97-da2661492e4e",
   "metadata": {},
   "source": [
    "## < 변수 2개 사용 -> pressure 1, 2 사용 >"
   ]
  },
  {
   "cell_type": "markdown",
   "id": "17975ea7-6895-4c1e-9286-697e3f2fbe2c",
   "metadata": {},
   "source": [
    "# 3. scaling"
   ]
  },
  {
   "cell_type": "code",
   "execution_count": 8,
   "id": "e1d36dad-b930-4863-b13a-84344cef0048",
   "metadata": {},
   "outputs": [],
   "source": [
    "# 필요 패키지 불러오기 (KMeans, matplotlib, preprocessing)\n",
    "from sklearn.cluster import KMeans\n",
    "import matplotlib.pyplot as plt\n",
    "from sklearn import preprocessing"
   ]
  },
  {
   "cell_type": "code",
   "execution_count": 9,
   "id": "29d0dec4-0277-41a7-b58d-22b56df1e6c3",
   "metadata": {},
   "outputs": [
    {
     "data": {
      "text/html": [
       "<div>\n",
       "<style scoped>\n",
       "    .dataframe tbody tr th:only-of-type {\n",
       "        vertical-align: middle;\n",
       "    }\n",
       "\n",
       "    .dataframe tbody tr th {\n",
       "        vertical-align: top;\n",
       "    }\n",
       "\n",
       "    .dataframe thead th {\n",
       "        text-align: right;\n",
       "    }\n",
       "</style>\n",
       "<table border=\"1\" class=\"dataframe\">\n",
       "  <thead>\n",
       "    <tr style=\"text-align: right;\">\n",
       "      <th></th>\n",
       "      <th>Pressure 1</th>\n",
       "      <th>Pressure 2</th>\n",
       "    </tr>\n",
       "  </thead>\n",
       "  <tbody>\n",
       "    <tr>\n",
       "      <th>0</th>\n",
       "      <td>275.0</td>\n",
       "      <td>274.0</td>\n",
       "    </tr>\n",
       "    <tr>\n",
       "      <th>1</th>\n",
       "      <td>275.0</td>\n",
       "      <td>274.0</td>\n",
       "    </tr>\n",
       "    <tr>\n",
       "      <th>2</th>\n",
       "      <td>275.0</td>\n",
       "      <td>275.0</td>\n",
       "    </tr>\n",
       "    <tr>\n",
       "      <th>3</th>\n",
       "      <td>275.0</td>\n",
       "      <td>275.0</td>\n",
       "    </tr>\n",
       "    <tr>\n",
       "      <th>4</th>\n",
       "      <td>274.6</td>\n",
       "      <td>276.0</td>\n",
       "    </tr>\n",
       "    <tr>\n",
       "      <th>...</th>\n",
       "      <td>...</td>\n",
       "      <td>...</td>\n",
       "    </tr>\n",
       "    <tr>\n",
       "      <th>62720</th>\n",
       "      <td>275.0</td>\n",
       "      <td>267.0</td>\n",
       "    </tr>\n",
       "    <tr>\n",
       "      <th>62721</th>\n",
       "      <td>274.9</td>\n",
       "      <td>269.0</td>\n",
       "    </tr>\n",
       "    <tr>\n",
       "      <th>62722</th>\n",
       "      <td>274.9</td>\n",
       "      <td>269.0</td>\n",
       "    </tr>\n",
       "    <tr>\n",
       "      <th>62723</th>\n",
       "      <td>275.3</td>\n",
       "      <td>267.0</td>\n",
       "    </tr>\n",
       "    <tr>\n",
       "      <th>62724</th>\n",
       "      <td>275.3</td>\n",
       "      <td>267.0</td>\n",
       "    </tr>\n",
       "  </tbody>\n",
       "</table>\n",
       "<p>62725 rows × 2 columns</p>\n",
       "</div>"
      ],
      "text/plain": [
       "       Pressure 1  Pressure 2\n",
       "0           275.0       274.0\n",
       "1           275.0       274.0\n",
       "2           275.0       275.0\n",
       "3           275.0       275.0\n",
       "4           274.6       276.0\n",
       "...           ...         ...\n",
       "62720       275.0       267.0\n",
       "62721       274.9       269.0\n",
       "62722       274.9       269.0\n",
       "62723       275.3       267.0\n",
       "62724       275.3       267.0\n",
       "\n",
       "[62725 rows x 2 columns]"
      ]
     },
     "execution_count": 9,
     "metadata": {},
     "output_type": "execute_result"
    }
   ],
   "source": [
    "# 원본 데이터를 복사해서 전처리하기 (원본 데이터를 가지고 바로 전처리하지 않는다)\n",
    "processed_data = new_data.copy()\n",
    "processed_data"
   ]
  },
  {
   "cell_type": "markdown",
   "id": "8666d69d-563c-4054-837b-146703e7668a",
   "metadata": {},
   "source": [
    "* 스케일링의 종류 \n",
    "- https://mkjjo.github.io/python/2019/01/10/scaler.html\n",
    "- StandardScaler :\t기본 스케일. 평균과 표준편차 사용 -> 분석시 사용\n",
    "- MinMaxScaler :\t최대/최소값이 각각 1, 0이 되도록 스케일링  \n",
    "- MaxAbsScaler :\t최대절대값과 0이 각각 1, 0이 되도록 스케일링\n",
    "- RobustScaler :\t중앙값(median)과 IQR(interquartile range) 사용. 아웃라이어의 영향을 최소화"
   ]
  },
  {
   "cell_type": "code",
   "execution_count": 10,
   "id": "9da22176-4a7a-4b45-a464-29f3b7888faf",
   "metadata": {},
   "outputs": [
    {
     "data": {
      "text/plain": [
       "array([[-0.0650941 ,  1.4034494 ],\n",
       "       [-0.0650941 ,  1.4034494 ],\n",
       "       [-0.0650941 ,  1.74076585],\n",
       "       ...,\n",
       "       [-0.1607243 , -0.28313286],\n",
       "       [ 0.22179651, -0.95776577],\n",
       "       [ 0.22179651, -0.95776577]])"
      ]
     },
     "execution_count": 10,
     "metadata": {},
     "output_type": "execute_result"
    }
   ],
   "source": [
    "# 데이터 전처리 - 정규화를 위한 작업-> standard scling 사용 \n",
    "scaler = preprocessing.StandardScaler()\n",
    "processed_data.iloc[:,[0,1]] = scaler.fit_transform(processed_data.iloc[:,[0,1]])\n",
    "processed_data.values"
   ]
  },
  {
   "cell_type": "code",
   "execution_count": 11,
   "id": "b6a045c4-1130-4a87-bb74-56b957803c75",
   "metadata": {},
   "outputs": [],
   "source": [
    "# Minmax 사용 \n",
    "# scaler = preprocessing.MinMaxScaler()\n",
    "# processed_data.iloc[:,[0,1,2,3]] = scaler.fit_transform(processed_data.iloc[:,[0,1,2,3]])\n",
    "# processed_data.values"
   ]
  },
  {
   "cell_type": "markdown",
   "id": "5fedf9a3-b564-47cf-81eb-834ba14afa7b",
   "metadata": {},
   "source": [
    "# 4. k-means"
   ]
  },
  {
   "cell_type": "markdown",
   "id": "b3a9aaef-0280-4430-afc0-6300fd14e8ae",
   "metadata": {},
   "source": [
    "- k-means parameter\n",
    "\n",
    "\n",
    "- init- 중심의 초기화 방법\n",
    "- n_clusters- 형성 할 클러스터의 수와 생성 할 중심의 수\n",
    "- n_init -k- 평균 알고리즘이 다른 중심 시드로 실행되는 횟수\n",
    "\n",
    "\n",
    "-"
   ]
  },
  {
   "cell_type": "markdown",
   "id": "a4843853-3c84-45a1-a13f-27ea3bf204f1",
   "metadata": {},
   "source": [
    "4-1. 실루엣 계수를 통해 가장 적합한 군집의 갯수 선택 -> k= 4 일때가 가장 적합한 것을 확인 \n",
    "- https://velog.io/@sset2323/07-02.-%EA%B5%B0%EC%A7%91-%ED%8F%89%EA%B0%80Cluster-Evaluation"
   ]
  },
  {
   "cell_type": "code",
   "execution_count": 12,
   "id": "89a74a07-a6b2-4261-b649-1516252896c5",
   "metadata": {},
   "outputs": [
    {
     "data": {
      "image/png": "[encoded data removed]",
      "text/plain": [
       "<Figure size 1152x288 with 4 Axes>"
      ]
     },
     "metadata": {},
     "output_type": "display_data"
    }
   ],
   "source": [
    "### 여러개의 클러스터링 갯수를 List로 입력 받아 각각의 실루엣 계수를 면적으로 시각화한 함수 작성\n",
    "def visualize_silhouette(cluster_lists, X_features):     \n",
    "    from sklearn.datasets import make_blobs\n",
    "    from sklearn.cluster import KMeans\n",
    "    from sklearn.metrics import silhouette_samples, silhouette_score\n",
    "\n",
    "    import matplotlib.pyplot as plt\n",
    "    import matplotlib.cm as cm\n",
    "    import math\n",
    "   \n",
    "    # 입력값으로 클러스터링 갯수들을 리스트로 받아서, 각 갯수별로 클러스터링을 적용하고 실루엣 개수를 구함\n",
    "    n_cols = len(cluster_lists)\n",
    "   \n",
    "    # plt.subplots()으로 리스트에 기재된 클러스터링 수만큼의 sub figures를 가지는 axs 생성 \n",
    "    fig, axs = plt.subplots(figsize=(4*n_cols, 4), nrows=1, ncols=n_cols)\n",
    "   \n",
    "    # 리스트에 기재된 클러스터링 갯수들을 차례로 iteration 수행하면서 실루엣 개수 시각화\n",
    "    for ind, n_cluster in enumerate(cluster_lists):\n",
    "       \n",
    "        # KMeans 클러스터링 수행하고, 실루엣 스코어와 개별 데이터의 실루엣 값 계산. \n",
    "        clusterer = KMeans(n_clusters = n_cluster, max_iter=500, random_state=0)\n",
    "        cluster_labels = clusterer.fit_predict(X_features)\n",
    "       \n",
    "        sil_avg = silhouette_score(X_features, cluster_labels)\n",
    "        sil_values = silhouette_samples(X_features, cluster_labels)\n",
    "       \n",
    "        y_lower = 10\n",
    "        axs[ind].set_title('Number of Cluster : '+ str(n_cluster)+'\\n' \\\n",
    "                          'Silhouette Score :' + str(round(sil_avg,3)) )\n",
    "        axs[ind].set_xlabel(\"The silhouette coefficient values\")\n",
    "        axs[ind].set_ylabel(\"Cluster label\")\n",
    "        axs[ind].set_xlim([-0.1, 1])\n",
    "        axs[ind].set_ylim([0, len(X_features) + (n_cluster + 1) * 10])\n",
    "        axs[ind].set_yticks([])  # Clear the yaxis labels / ticks\n",
    "        axs[ind].set_xticks([0, 0.2, 0.4, 0.6, 0.8, 1])\n",
    "       \n",
    "        # 클러스터링 갯수별로 fill_betweenx( )형태의 막대 그래프 표현. \n",
    "        for i in range(n_cluster):\n",
    "            ith_cluster_sil_values = sil_values[cluster_labels==i]\n",
    "            ith_cluster_sil_values.sort()\n",
    "           \n",
    "            size_cluster_i = ith_cluster_sil_values.shape[0]\n",
    "            y_upper = y_lower + size_cluster_i\n",
    "           \n",
    "            color = cm.nipy_spectral(float(i) / n_cluster)\n",
    "            axs[ind].fill_betweenx(np.arange(y_lower, y_upper), 0, ith_cluster_sil_values, \\\n",
    "                                facecolor=color, edgecolor=color, alpha=0.7)\n",
    "            axs[ind].text(-0.05, y_lower + 0.5 * size_cluster_i, str(i))\n",
    "            y_lower = y_upper + 10\n",
    "\n",
    "        axs[ind].axvline(x=sil_avg, color=\"red\", linestyle=\"--\")\n",
    "\n",
    "# make_blobs 을 통해 clustering 을 위한 4개의 클러스터 중심의 500개 2차원 데이터 셋 생성  \n",
    "from sklearn.datasets import make_blobs\n",
    "X, y = make_blobs(n_samples=500, n_features=2, centers=4, cluster_std=1, \\\n",
    "                  center_box=(-10.0, 10.0), shuffle=True, random_state=1)  \n",
    "\n",
    "# cluster 개수를 2개, 3개, 4개, 5개 일때의 클러스터별 실루엣 계수 평균값을 시각화 \n",
    "visualize_silhouette([ 2, 3, 4, 5],processed_data.iloc[:,[0,1]])"
   ]
  },
  {
   "cell_type": "code",
   "execution_count": 13,
   "id": "3b06b5aa-8f53-4d4e-ac02-a889d0cc895b",
   "metadata": {},
   "outputs": [
    {
     "data": {
      "image/png": "[encoded data removed]",
      "text/plain": [
       "<Figure size 432x288 with 1 Axes>"
      ]
     },
     "metadata": {},
     "output_type": "display_data"
    }
   ],
   "source": [
    "# 엘보우 차트 기준으로도 k= 4 가 적합 \n",
    "\n",
    "def elbow(X):\n",
    "    sse = []\n",
    "\n",
    "    for i in range(1,11):\n",
    "        clusterer = KMeans(n_clusters = i, max_iter=500, random_state=0)\n",
    "        clusterer.fit(X)\n",
    "        sse.append(clusterer.inertia_)\n",
    "\n",
    "    plt.plot(range(1,11), sse, marker='o')\n",
    "    plt.xlabel('K')\n",
    "    plt.ylabel('SSE')\n",
    "    plt.show()\n",
    "\n",
    "elbow(processed_data.values)"
   ]
  },
  {
   "cell_type": "markdown",
   "id": "bf5bda2d-5d16-4a75-b645-4c58cf7ba0d1",
   "metadata": {},
   "source": [
    "4-2. k = 4의 k-means 클러스터 분석 결과"
   ]
  },
  {
   "cell_type": "code",
   "execution_count": 14,
   "id": "422b94b0-3f8d-41b9-8c83-4cc314b21435",
   "metadata": {},
   "outputs": [
    {
     "data": {
      "text/html": [
       "<div>\n",
       "<style scoped>\n",
       "    .dataframe tbody tr th:only-of-type {\n",
       "        vertical-align: middle;\n",
       "    }\n",
       "\n",
       "    .dataframe tbody tr th {\n",
       "        vertical-align: top;\n",
       "    }\n",
       "\n",
       "    .dataframe thead th {\n",
       "        text-align: right;\n",
       "    }\n",
       "</style>\n",
       "<table border=\"1\" class=\"dataframe\">\n",
       "  <thead>\n",
       "    <tr style=\"text-align: right;\">\n",
       "      <th></th>\n",
       "      <th>Pressure 1</th>\n",
       "      <th>Pressure 2</th>\n",
       "      <th>cluster_num</th>\n",
       "    </tr>\n",
       "  </thead>\n",
       "  <tbody>\n",
       "    <tr>\n",
       "      <th>0</th>\n",
       "      <td>-0.065094</td>\n",
       "      <td>1.403449</td>\n",
       "      <td>0</td>\n",
       "    </tr>\n",
       "    <tr>\n",
       "      <th>1</th>\n",
       "      <td>-0.065094</td>\n",
       "      <td>1.403449</td>\n",
       "      <td>0</td>\n",
       "    </tr>\n",
       "    <tr>\n",
       "      <th>2</th>\n",
       "      <td>-0.065094</td>\n",
       "      <td>1.740766</td>\n",
       "      <td>0</td>\n",
       "    </tr>\n",
       "    <tr>\n",
       "      <th>3</th>\n",
       "      <td>-0.065094</td>\n",
       "      <td>1.740766</td>\n",
       "      <td>0</td>\n",
       "    </tr>\n",
       "    <tr>\n",
       "      <th>4</th>\n",
       "      <td>-0.447615</td>\n",
       "      <td>2.078082</td>\n",
       "      <td>0</td>\n",
       "    </tr>\n",
       "    <tr>\n",
       "      <th>...</th>\n",
       "      <td>...</td>\n",
       "      <td>...</td>\n",
       "      <td>...</td>\n",
       "    </tr>\n",
       "    <tr>\n",
       "      <th>62720</th>\n",
       "      <td>-0.065094</td>\n",
       "      <td>-0.957766</td>\n",
       "      <td>1</td>\n",
       "    </tr>\n",
       "    <tr>\n",
       "      <th>62721</th>\n",
       "      <td>-0.160724</td>\n",
       "      <td>-0.283133</td>\n",
       "      <td>1</td>\n",
       "    </tr>\n",
       "    <tr>\n",
       "      <th>62722</th>\n",
       "      <td>-0.160724</td>\n",
       "      <td>-0.283133</td>\n",
       "      <td>1</td>\n",
       "    </tr>\n",
       "    <tr>\n",
       "      <th>62723</th>\n",
       "      <td>0.221797</td>\n",
       "      <td>-0.957766</td>\n",
       "      <td>1</td>\n",
       "    </tr>\n",
       "    <tr>\n",
       "      <th>62724</th>\n",
       "      <td>0.221797</td>\n",
       "      <td>-0.957766</td>\n",
       "      <td>1</td>\n",
       "    </tr>\n",
       "  </tbody>\n",
       "</table>\n",
       "<p>62725 rows × 3 columns</p>\n",
       "</div>"
      ],
      "text/plain": [
       "       Pressure 1  Pressure 2  cluster_num\n",
       "0       -0.065094    1.403449            0\n",
       "1       -0.065094    1.403449            0\n",
       "2       -0.065094    1.740766            0\n",
       "3       -0.065094    1.740766            0\n",
       "4       -0.447615    2.078082            0\n",
       "...           ...         ...          ...\n",
       "62720   -0.065094   -0.957766            1\n",
       "62721   -0.160724   -0.283133            1\n",
       "62722   -0.160724   -0.283133            1\n",
       "62723    0.221797   -0.957766            1\n",
       "62724    0.221797   -0.957766            1\n",
       "\n",
       "[62725 rows x 3 columns]"
      ]
     },
     "execution_count": 14,
     "metadata": {},
     "output_type": "execute_result"
    }
   ],
   "source": [
    "# k-means MODELING\n",
    "\n",
    "# cluster 갯수 설정\n",
    "n_cluster = 4\n",
    "clusterer = KMeans(n_clusters = n_cluster, max_iter=500, random_state=0)\n",
    "cluster_labels = clusterer.fit_predict(processed_data.iloc[:,[0,1]].values)\n",
    "\n",
    "# 레이블 df에 추가 \n",
    "processed_data['cluster_num'] = cluster_labels\n",
    "processed_data"
   ]
  },
  {
   "cell_type": "code",
   "execution_count": 15,
   "id": "dfa7b35c-0117-4edd-95e8-c4ebe41c55f5",
   "metadata": {},
   "outputs": [
    {
     "data": {
      "text/plain": [
       "16016.321766153742"
      ]
     },
     "execution_count": 15,
     "metadata": {},
     "output_type": "execute_result"
    }
   ],
   "source": [
    "# k-means clustering으로 계산된 값 \n",
    "clusterer.inertia_ "
   ]
  },
  {
   "cell_type": "markdown",
   "id": "2cd6086e-e5ba-4e9a-a9a7-15e8e411ce20",
   "metadata": {},
   "source": [
    "4-3. k-means 결과 시각화"
   ]
  },
  {
   "cell_type": "markdown",
   "id": "5e97c21f-3344-4989-bc0c-989a5d32b43c",
   "metadata": {},
   "source": [
    "(1) 분포별 시각화"
   ]
  },
  {
   "cell_type": "code",
   "execution_count": 16,
   "id": "fb762c90-4c35-48c1-b0d2-fbc8b5e5a02c",
   "metadata": {},
   "outputs": [
    {
     "data": {
      "image/png": "[encoded data removed]",
      "text/plain": [
       "<Figure size 720x360 with 1 Axes>"
      ]
     },
     "metadata": {},
     "output_type": "display_data"
    }
   ],
   "source": [
    "# label별 분포 -> 시각화 (파이차트)\n",
    "\n",
    "import collections\n",
    "import matplotlib.pyplot as plt\n",
    "\n",
    "label_name = []\n",
    "sizes = []\n",
    "colors = ['#ff9999', '#ffc000', '#8fd9b6', '#d395d0']\n",
    "explode = [0.01, 0.01, 0.01, 0.5]\n",
    "for i in range(clusterer.n_clusters):\n",
    "  label_name.append(\"cluster_\"+str(i))\n",
    "  sizes.append(collections.Counter(processed_data['cluster_num'])[i])\n",
    "plt.figure(figsize=(10,5))\n",
    "plt.pie(sizes,shadow=False,startangle=50,autopct='%1.1f%%',colors=colors,explode=explode)\n",
    "plt.title(\"Cluster Distribution press\",position=(0.5,1.2),fontsize=20)\n",
    "plt.legend(label_name)\n",
    "plt.show()"
   ]
  },
  {
   "cell_type": "code",
   "execution_count": 17,
   "id": "a461e74a-3772-43dd-a540-dbb88e935efe",
   "metadata": {},
   "outputs": [
    {
     "data": {
      "text/plain": [
       "1    42301\n",
       "0    19893\n",
       "2      511\n",
       "3       20\n",
       "Name: cluster_num, dtype: int64"
      ]
     },
     "execution_count": 17,
     "metadata": {},
     "output_type": "execute_result"
    }
   ],
   "source": [
    "# 레이블 별 분포 결과\n",
    "processed_data['cluster_num'].value_counts()"
   ]
  },
  {
   "cell_type": "code",
   "execution_count": 18,
   "id": "1090823d-4508-406c-aa0f-ff9db63ebcd4",
   "metadata": {},
   "outputs": [
    {
     "data": {
      "text/html": [
       "<div>\n",
       "<style scoped>\n",
       "    .dataframe tbody tr th:only-of-type {\n",
       "        vertical-align: middle;\n",
       "    }\n",
       "\n",
       "    .dataframe tbody tr th {\n",
       "        vertical-align: top;\n",
       "    }\n",
       "\n",
       "    .dataframe thead th {\n",
       "        text-align: right;\n",
       "    }\n",
       "</style>\n",
       "<table border=\"1\" class=\"dataframe\">\n",
       "  <thead>\n",
       "    <tr style=\"text-align: right;\">\n",
       "      <th></th>\n",
       "      <th>Pressure 1</th>\n",
       "      <th>Pressure 2</th>\n",
       "    </tr>\n",
       "    <tr>\n",
       "      <th>cluster_num</th>\n",
       "      <th></th>\n",
       "      <th></th>\n",
       "    </tr>\n",
       "  </thead>\n",
       "  <tbody>\n",
       "    <tr>\n",
       "      <th>0</th>\n",
       "      <td>-0.065089</td>\n",
       "      <td>1.353675</td>\n",
       "    </tr>\n",
       "    <tr>\n",
       "      <th>1</th>\n",
       "      <td>-0.072489</td>\n",
       "      <td>-0.651943</td>\n",
       "    </tr>\n",
       "    <tr>\n",
       "      <th>2</th>\n",
       "      <td>9.366552</td>\n",
       "      <td>1.272219</td>\n",
       "    </tr>\n",
       "    <tr>\n",
       "      <th>3</th>\n",
       "      <td>-21.256747</td>\n",
       "      <td>-0.047011</td>\n",
       "    </tr>\n",
       "  </tbody>\n",
       "</table>\n",
       "</div>"
      ],
      "text/plain": [
       "             Pressure 1  Pressure 2\n",
       "cluster_num                        \n",
       "0             -0.065089    1.353675\n",
       "1             -0.072489   -0.651943\n",
       "2              9.366552    1.272219\n",
       "3            -21.256747   -0.047011"
      ]
     },
     "execution_count": 18,
     "metadata": {},
     "output_type": "execute_result"
    }
   ],
   "source": [
    "# 데이터 세트에 있는 각 속성의 평균 \n",
    "data_mean = processed_data.groupby('cluster_num').mean()\n",
    "data_mean"
   ]
  },
  {
   "cell_type": "code",
   "execution_count": 19,
   "id": "303f3ba7-8920-4151-ba83-1336ad8dc119",
   "metadata": {},
   "outputs": [
    {
     "data": {
      "text/plain": [
       "<AxesSubplot:xlabel='cluster_num'>"
      ]
     },
     "execution_count": 19,
     "metadata": {},
     "output_type": "execute_result"
    },
    {
     "data": {
      "image/png": "[encoded data removed]",
      "text/plain": [
       "<Figure size 432x288 with 1 Axes>"
      ]
     },
     "metadata": {},
     "output_type": "display_data"
    }
   ],
   "source": [
    "# 데이터 세트에 있는 각 속성의 평균 \n",
    "data_mean = processed_data.groupby('cluster_num').mean().plot.bar(color = ['#ff9999', '#ffc000', '#8fd9b6', '#d395d0'])\n",
    "data_mean"
   ]
  },
  {
   "cell_type": "code",
   "execution_count": 20,
   "id": "b51b70bf-2a2f-4eb2-8c1a-661a4c37ae51",
   "metadata": {},
   "outputs": [],
   "source": [
    "# data_mean[['Pressure 1','Pressure 2']].plot(kind='box')"
   ]
  },
  {
   "cell_type": "markdown",
   "id": "3613ed8a-1d94-4257-84a2-7db5de75938b",
   "metadata": {},
   "source": [
    "(2) pca 2차원 축소후 시각화 결과"
   ]
  },
  {
   "cell_type": "code",
   "execution_count": 21,
   "id": "ae9ffa09-f3cc-4735-8c19-766d4a15741a",
   "metadata": {},
   "outputs": [
    {
     "data": {
      "text/html": [
       "<div>\n",
       "<style scoped>\n",
       "    .dataframe tbody tr th:only-of-type {\n",
       "        vertical-align: middle;\n",
       "    }\n",
       "\n",
       "    .dataframe tbody tr th {\n",
       "        vertical-align: top;\n",
       "    }\n",
       "\n",
       "    .dataframe thead th {\n",
       "        text-align: right;\n",
       "    }\n",
       "</style>\n",
       "<table border=\"1\" class=\"dataframe\">\n",
       "  <thead>\n",
       "    <tr style=\"text-align: right;\">\n",
       "      <th></th>\n",
       "      <th>principal component 1</th>\n",
       "      <th>principal component 2</th>\n",
       "      <th>cluster_num</th>\n",
       "    </tr>\n",
       "  </thead>\n",
       "  <tbody>\n",
       "    <tr>\n",
       "      <th>0</th>\n",
       "      <td>-0.946360</td>\n",
       "      <td>1.038417</td>\n",
       "      <td>0</td>\n",
       "    </tr>\n",
       "    <tr>\n",
       "      <th>1</th>\n",
       "      <td>-0.946360</td>\n",
       "      <td>1.038417</td>\n",
       "      <td>0</td>\n",
       "    </tr>\n",
       "    <tr>\n",
       "      <th>2</th>\n",
       "      <td>-1.184879</td>\n",
       "      <td>1.276936</td>\n",
       "      <td>0</td>\n",
       "    </tr>\n",
       "    <tr>\n",
       "      <th>3</th>\n",
       "      <td>-1.184879</td>\n",
       "      <td>1.276936</td>\n",
       "      <td>0</td>\n",
       "    </tr>\n",
       "    <tr>\n",
       "      <th>4</th>\n",
       "      <td>-1.152915</td>\n",
       "      <td>1.785938</td>\n",
       "      <td>0</td>\n",
       "    </tr>\n",
       "    <tr>\n",
       "      <th>...</th>\n",
       "      <td>...</td>\n",
       "      <td>...</td>\n",
       "      <td>...</td>\n",
       "    </tr>\n",
       "    <tr>\n",
       "      <th>62720</th>\n",
       "      <td>0.723271</td>\n",
       "      <td>-0.631214</td>\n",
       "      <td>1</td>\n",
       "    </tr>\n",
       "    <tr>\n",
       "      <th>62721</th>\n",
       "      <td>0.313854</td>\n",
       "      <td>-0.086556</td>\n",
       "      <td>1</td>\n",
       "    </tr>\n",
       "    <tr>\n",
       "      <th>62722</th>\n",
       "      <td>0.313854</td>\n",
       "      <td>-0.086556</td>\n",
       "      <td>1</td>\n",
       "    </tr>\n",
       "    <tr>\n",
       "      <th>62723</th>\n",
       "      <td>0.520409</td>\n",
       "      <td>-0.834076</td>\n",
       "      <td>1</td>\n",
       "    </tr>\n",
       "    <tr>\n",
       "      <th>62724</th>\n",
       "      <td>0.520409</td>\n",
       "      <td>-0.834076</td>\n",
       "      <td>1</td>\n",
       "    </tr>\n",
       "  </tbody>\n",
       "</table>\n",
       "<p>62725 rows × 3 columns</p>\n",
       "</div>"
      ],
      "text/plain": [
       "       principal component 1  principal component 2  cluster_num\n",
       "0                  -0.946360               1.038417            0\n",
       "1                  -0.946360               1.038417            0\n",
       "2                  -1.184879               1.276936            0\n",
       "3                  -1.184879               1.276936            0\n",
       "4                  -1.152915               1.785938            0\n",
       "...                      ...                    ...          ...\n",
       "62720               0.723271              -0.631214            1\n",
       "62721               0.313854              -0.086556            1\n",
       "62722               0.313854              -0.086556            1\n",
       "62723               0.520409              -0.834076            1\n",
       "62724               0.520409              -0.834076            1\n",
       "\n",
       "[62725 rows x 3 columns]"
      ]
     },
     "execution_count": 21,
     "metadata": {},
     "output_type": "execute_result"
    }
   ],
   "source": [
    "# pca 2차원으로 축소 \n",
    "\n",
    "from sklearn.decomposition import PCA\n",
    "# from sklearn.preprocessing import StandardScaler\n",
    "\n",
    "pca = PCA(n_components = 2)\n",
    "principalComponents = pca.fit_transform(processed_data.iloc[:,[0,1]].values)\n",
    "principalDf = pd.DataFrame(data = principalComponents\n",
    "             , columns = ['principal component 1', 'principal component 2'])\n",
    "\n",
    "# index 재정렬 필요 \n",
    "processed_data = processed_data.reset_index(drop=True)\n",
    "processed_data\n",
    "\n",
    "# 기존에 있던 label과 합치기\n",
    "finalDataFrame = pd.concat([principalDf, processed_data[['cluster_num']]], axis=1)\n",
    "finalDataFrame"
   ]
  },
  {
   "cell_type": "code",
   "execution_count": 22,
   "id": "2b2b495f-bfc3-4a9b-baa9-a06a0861a7fd",
   "metadata": {},
   "outputs": [
    {
     "data": {
      "image/png": "[encoded data removed]",
      "text/plain": [
       "<Figure size 576x576 with 1 Axes>"
      ]
     },
     "metadata": {},
     "output_type": "display_data"
    }
   ],
   "source": [
    "# pca 시각화 결과 \n",
    "\n",
    "fig = plt.figure(figsize = (8,8))\n",
    "ax = fig.add_subplot(1,1,1) \n",
    "ax.set_xlabel('Principal Component 1', fontsize = 15)\n",
    "ax.set_ylabel('Principal Component 2', fontsize = 15)\n",
    "ax.set_title('2 Component PCA', fontsize = 20)\n",
    "\n",
    "label_name = ['cluster 0', 'cluster 1', 'cluster 2', 'cluster 3']\n",
    "colors = ['#ff9999', '#ffc000', '#8fd9b6', '#d395d0']\n",
    "for label, color in zip(list(set(cluster_labels)), colors):\n",
    "    indicesToKeep = finalDataFrame['cluster_num'] == label\n",
    "    ax.scatter(finalDataFrame.loc[indicesToKeep, 'principal component 1']\n",
    "               , finalDataFrame.loc[indicesToKeep, 'principal component 2']\n",
    "               , c = color\n",
    "               , s = 30)\n",
    "\n",
    "ax.legend(label_name)\n",
    "ax.grid()"
   ]
  },
  {
   "cell_type": "code",
   "execution_count": 23,
   "id": "e847a514-5d7f-4470-be0f-506650dc4ada",
   "metadata": {},
   "outputs": [
    {
     "data": {
      "text/plain": [
       "1.0"
      ]
     },
     "execution_count": 23,
     "metadata": {},
     "output_type": "execute_result"
    }
   ],
   "source": [
    "# pca 2차원으로 축소시에 100퍼센트 이상 설명 가능 -> pca 2차원이 가장 적합 \n",
    "sum(pca.explained_variance_ratio_)"
   ]
  },
  {
   "cell_type": "markdown",
   "id": "0258a5d6-92af-49b2-9ac4-dcc490da6f8d",
   "metadata": {},
   "source": [
    "(4) 2차원 t-sne로 시작화 \n",
    "- https://mkjjo.github.io/finance/2019/01/09/kmeans_corp.html"
   ]
  },
  {
   "cell_type": "code",
   "execution_count": 24,
   "id": "b59c0339-1b62-4c9a-9149-f1fa0e3bfa96",
   "metadata": {},
   "outputs": [],
   "source": [
    "import numpy as np\n",
    "from sklearn.manifold import TSNE\n",
    "\n",
    "# 2개의 차원으로 축소\n",
    "transformed = TSNE(n_components=2).fit_transform(processed_data.iloc[:,[0,1]])\n",
    "transformed.shape\n",
    "\n",
    "# x,y축\n",
    "xs = transformed[:,0]\n",
    "ys = transformed[:,1]\n"
   ]
  },
  {
   "cell_type": "code",
   "execution_count": 25,
   "id": "e565786d-f2dd-434e-a735-4f379fd5bd47",
   "metadata": {},
   "outputs": [
    {
     "data": {
      "image/png": "[encoded data removed]",
      "text/plain": [
       "<Figure size 576x576 with 1 Axes>"
      ]
     },
     "metadata": {},
     "output_type": "display_data"
    }
   ],
   "source": [
    "# t-sne 시각화 과정 \n",
    "\n",
    "# DataFrame 변환\n",
    "transformed_DF=pd.DataFrame(transformed)\n",
    "transformed_DF\n",
    "\n",
    "# 레이블 CONCAT\n",
    "TSNE = pd.concat([transformed_DF, processed_data[['cluster_num']]], axis=1)\n",
    "TSNE\n",
    "\n",
    "# T-SNE 시각화\n",
    "fig = plt.figure(figsize = (8,8))\n",
    "ax = fig.add_subplot(1,1,1) \n",
    "ax.set_xlabel('XS', fontsize = 15)\n",
    "ax.set_ylabel('XY', fontsize = 15)\n",
    "ax.set_title('T-SNE', fontsize = 20)\n",
    "\n",
    "label_name = ['cluster 0', 'cluster 1', 'cluster 2', 'cluster 3']\n",
    "colors = [\"#7fc97f\",\"#beaed4\",\"#386cb0\",\"#f0027f\"]\n",
    "for label, color in zip(list(set(cluster_labels)), colors):\n",
    "  indicesToKeep = finalDataFrame['cluster_num'] == label\n",
    "  ax.scatter(TSNE.loc[indicesToKeep, 0]\n",
    "               , TSNE.loc[indicesToKeep, 1]\n",
    "               , c = color\n",
    "               , s = 30)\n",
    "\n",
    "ax.legend(label_name)\n",
    "ax.grid()"
   ]
  },
  {
   "cell_type": "markdown",
   "id": "0b96e43f-4807-484b-ad65-fc3745dcc4de",
   "metadata": {},
   "source": [
    "4-4. gmm 알고리즘"
   ]
  },
  {
   "cell_type": "markdown",
   "id": "7d9128da-bf02-4fe7-8dc9-d86e686b4883",
   "metadata": {},
   "source": [
    "- 결론 : gmm도 찍어봤어 but, 불량률을 판정하기 어려웠음 \n",
    "- appendix로 빼면 될듯 (다른 버리는 알고리즘이랑 한번 언급 정도 해주면 될듯)\n",
    "- 실루엣 계수 결과 cluster는 4일 때가 가장 적합함 but, 하나의 그룹이 400개가 존재하기 때문에 적합하지 않음"
   ]
  },
  {
   "cell_type": "code",
   "execution_count": 26,
   "id": "e75038a2-b10a-49c6-a91c-60342a60aecc",
   "metadata": {},
   "outputs": [],
   "source": [
    "# 데이터 설정\n",
    "gmm = new_data.copy()\n",
    "\n",
    "# 정규화\n",
    "scaler = StandardScaler()\n",
    "input_data = scaler.fit_transform(gmm.iloc[:,[0,1]]) # iloc에서 열 기준으로는 처음이 1로 시작 "
   ]
  },
  {
   "cell_type": "code",
   "execution_count": 27,
   "id": "40f4a9b1-e704-43fa-9fcb-8fbe12b09ae0",
   "metadata": {},
   "outputs": [
    {
     "data": {
      "text/html": [
       "<div>\n",
       "<style scoped>\n",
       "    .dataframe tbody tr th:only-of-type {\n",
       "        vertical-align: middle;\n",
       "    }\n",
       "\n",
       "    .dataframe tbody tr th {\n",
       "        vertical-align: top;\n",
       "    }\n",
       "\n",
       "    .dataframe thead th {\n",
       "        text-align: right;\n",
       "    }\n",
       "</style>\n",
       "<table border=\"1\" class=\"dataframe\">\n",
       "  <thead>\n",
       "    <tr style=\"text-align: right;\">\n",
       "      <th></th>\n",
       "      <th>0</th>\n",
       "      <th>1</th>\n",
       "    </tr>\n",
       "  </thead>\n",
       "  <tbody>\n",
       "    <tr>\n",
       "      <th>0</th>\n",
       "      <td>-0.065094</td>\n",
       "      <td>1.403449</td>\n",
       "    </tr>\n",
       "    <tr>\n",
       "      <th>1</th>\n",
       "      <td>-0.065094</td>\n",
       "      <td>1.403449</td>\n",
       "    </tr>\n",
       "    <tr>\n",
       "      <th>2</th>\n",
       "      <td>-0.065094</td>\n",
       "      <td>1.740766</td>\n",
       "    </tr>\n",
       "    <tr>\n",
       "      <th>3</th>\n",
       "      <td>-0.065094</td>\n",
       "      <td>1.740766</td>\n",
       "    </tr>\n",
       "    <tr>\n",
       "      <th>4</th>\n",
       "      <td>-0.447615</td>\n",
       "      <td>2.078082</td>\n",
       "    </tr>\n",
       "    <tr>\n",
       "      <th>...</th>\n",
       "      <td>...</td>\n",
       "      <td>...</td>\n",
       "    </tr>\n",
       "    <tr>\n",
       "      <th>62720</th>\n",
       "      <td>-0.065094</td>\n",
       "      <td>-0.957766</td>\n",
       "    </tr>\n",
       "    <tr>\n",
       "      <th>62721</th>\n",
       "      <td>-0.160724</td>\n",
       "      <td>-0.283133</td>\n",
       "    </tr>\n",
       "    <tr>\n",
       "      <th>62722</th>\n",
       "      <td>-0.160724</td>\n",
       "      <td>-0.283133</td>\n",
       "    </tr>\n",
       "    <tr>\n",
       "      <th>62723</th>\n",
       "      <td>0.221797</td>\n",
       "      <td>-0.957766</td>\n",
       "    </tr>\n",
       "    <tr>\n",
       "      <th>62724</th>\n",
       "      <td>0.221797</td>\n",
       "      <td>-0.957766</td>\n",
       "    </tr>\n",
       "  </tbody>\n",
       "</table>\n",
       "<p>62725 rows × 2 columns</p>\n",
       "</div>"
      ],
      "text/plain": [
       "              0         1\n",
       "0     -0.065094  1.403449\n",
       "1     -0.065094  1.403449\n",
       "2     -0.065094  1.740766\n",
       "3     -0.065094  1.740766\n",
       "4     -0.447615  2.078082\n",
       "...         ...       ...\n",
       "62720 -0.065094 -0.957766\n",
       "62721 -0.160724 -0.283133\n",
       "62722 -0.160724 -0.283133\n",
       "62723  0.221797 -0.957766\n",
       "62724  0.221797 -0.957766\n",
       "\n",
       "[62725 rows x 2 columns]"
      ]
     },
     "execution_count": 27,
     "metadata": {},
     "output_type": "execute_result"
    }
   ],
   "source": [
    "input_data = pd.DataFrame(input_data)\n",
    "input_data"
   ]
  },
  {
   "cell_type": "markdown",
   "id": "3eac0d09-543f-42c7-934f-64dae2cb5505",
   "metadata": {},
   "source": [
    "(1) 2개의 clustering "
   ]
  },
  {
   "cell_type": "code",
   "execution_count": 28,
   "id": "eb8b60a8-d214-4cc6-a9c8-7fcf40a8c1bd",
   "metadata": {},
   "outputs": [
    {
     "data": {
      "text/plain": [
       "1    42378\n",
       "0    20347\n",
       "Name: gmm_cluster, dtype: int64"
      ]
     },
     "execution_count": 28,
     "metadata": {},
     "output_type": "execute_result"
    }
   ],
   "source": [
    "gmm = GaussianMixture(n_components = 2)\n",
    "gmm.fit(input_data)\n",
    "gmm_labels = gmm.predict(input_data)\n",
    "\n",
    "new_data['gmm_cluster'] = gmm_labels\n",
    "new_data['gmm_cluster'].value_counts()"
   ]
  },
  {
   "cell_type": "markdown",
   "id": "4f552be9-2831-4345-bb48-172a00d0e14c",
   "metadata": {},
   "source": [
    "(2) 3개의 clustering "
   ]
  },
  {
   "cell_type": "code",
   "execution_count": 29,
   "id": "8e56fc2e-fba5-484f-9f86-35c8c42a8e93",
   "metadata": {},
   "outputs": [
    {
     "data": {
      "text/plain": [
       "0    42286\n",
       "1    19818\n",
       "2      621\n",
       "Name: gmm_cluster, dtype: int64"
      ]
     },
     "execution_count": 29,
     "metadata": {},
     "output_type": "execute_result"
    }
   ],
   "source": [
    "gmm = GaussianMixture(n_components = 3)\n",
    "gmm.fit(input_data)\n",
    "gmm_labels = gmm.predict(input_data)\n",
    "\n",
    "new_data['gmm_cluster'] = gmm_labels\n",
    "new_data['gmm_cluster'].value_counts()"
   ]
  },
  {
   "cell_type": "markdown",
   "id": "b81a15fb-036e-43dc-8949-61c2e8c16e99",
   "metadata": {},
   "source": [
    "(3) 4개의 clustering"
   ]
  },
  {
   "cell_type": "code",
   "execution_count": 30,
   "id": "b9dabada-538c-4bdf-bbb8-1072974f963e",
   "metadata": {},
   "outputs": [
    {
     "data": {
      "text/plain": [
       "0    23098\n",
       "1    19847\n",
       "3    19159\n",
       "2      621\n",
       "Name: gmm_cluster, dtype: int64"
      ]
     },
     "execution_count": 30,
     "metadata": {},
     "output_type": "execute_result"
    }
   ],
   "source": [
    "gmm = GaussianMixture(n_components = 4)\n",
    "gmm.fit(input_data)\n",
    "gmm_labels = gmm.predict(input_data)\n",
    "\n",
    "new_data['gmm_cluster'] = gmm_labels\n",
    "new_data['gmm_cluster'].value_counts()"
   ]
  },
  {
   "cell_type": "markdown",
   "id": "571bee88-d950-404f-bb5b-d7a05f41decc",
   "metadata": {},
   "source": [
    "(3) 5개의 clustering"
   ]
  },
  {
   "cell_type": "code",
   "execution_count": 31,
   "id": "21e52f76-3e4a-4cf4-a2aa-dd9739013368",
   "metadata": {},
   "outputs": [
    {
     "data": {
      "text/plain": [
       "0    23098\n",
       "1    19850\n",
       "3    19159\n",
       "2      487\n",
       "4      131\n",
       "Name: gmm_cluster, dtype: int64"
      ]
     },
     "execution_count": 31,
     "metadata": {},
     "output_type": "execute_result"
    }
   ],
   "source": [
    "gmm = GaussianMixture(n_components = 5)\n",
    "gmm.fit(input_data)\n",
    "gmm_labels = gmm.predict(input_data)\n",
    "\n",
    "new_data['gmm_cluster'] = gmm_labels\n",
    "new_data['gmm_cluster'].value_counts()"
   ]
  },
  {
   "cell_type": "code",
   "execution_count": 32,
   "id": "31d5a42b-1397-407b-a62c-2720ec1760e9",
   "metadata": {},
   "outputs": [
    {
     "data": {
      "text/plain": [
       "4    23098\n",
       "0    19159\n",
       "1    14838\n",
       "5     4998\n",
       "2      487\n",
       "3      145\n",
       "Name: gmm_cluster, dtype: int64"
      ]
     },
     "execution_count": 32,
     "metadata": {},
     "output_type": "execute_result"
    }
   ],
   "source": [
    "gmm = GaussianMixture(n_components = 6)\n",
    "gmm.fit(input_data)\n",
    "gmm_labels = gmm.predict(input_data)\n",
    "\n",
    "new_data['gmm_cluster'] = gmm_labels\n",
    "new_data['gmm_cluster'].value_counts()"
   ]
  },
  {
   "cell_type": "code",
   "execution_count": 33,
   "id": "9cd30702-b6be-4170-81b1-5f8cf476a8da",
   "metadata": {},
   "outputs": [
    {
     "data": {
      "text/plain": [
       "5    23098\n",
       "0    19159\n",
       "2    14689\n",
       "1     4998\n",
       "3      487\n",
       "6      161\n",
       "4      133\n",
       "Name: gmm_cluster, dtype: int64"
      ]
     },
     "execution_count": 33,
     "metadata": {},
     "output_type": "execute_result"
    }
   ],
   "source": [
    "gmm = GaussianMixture(n_components = 7)\n",
    "gmm.fit(input_data)\n",
    "gmm_labels = gmm.predict(input_data)\n",
    "\n",
    "new_data['gmm_cluster'] = gmm_labels\n",
    "new_data['gmm_cluster'].value_counts()"
   ]
  },
  {
   "cell_type": "code",
   "execution_count": 34,
   "id": "5e75862f-a4f1-41c6-815b-97705facb50b",
   "metadata": {},
   "outputs": [
    {
     "data": {
      "image/png": "[encoded data removed]",
      "text/plain": [
       "<Figure size 1728x288 with 6 Axes>"
      ]
     },
     "metadata": {},
     "output_type": "display_data"
    }
   ],
   "source": [
    "### 여러개의 클러스터링 갯수를 List로 입력 받아 각각의 실루엣 계수를 면적으로 시각화한 함수 작성\n",
    "def visualize_silhouette(cluster_lists, X_features):     \n",
    "    from sklearn.datasets import make_blobs\n",
    "    from sklearn.cluster import KMeans\n",
    "    from sklearn.metrics import silhouette_samples, silhouette_score\n",
    "\n",
    "    import matplotlib.pyplot as plt\n",
    "    import matplotlib.cm as cm\n",
    "    import math\n",
    "   \n",
    "    # 입력값으로 클러스터링 갯수들을 리스트로 받아서, 각 갯수별로 클러스터링을 적용하고 실루엣 개수를 구함\n",
    "    n_cols = len(cluster_lists)\n",
    "   \n",
    "    # plt.subplots()으로 리스트에 기재된 클러스터링 수만큼의 sub figures를 가지는 axs 생성 \n",
    "    fig, axs = plt.subplots(figsize=(4*n_cols, 4), nrows=1, ncols=n_cols)\n",
    "   \n",
    "    # 리스트에 기재된 클러스터링 갯수들을 차례로 iteration 수행하면서 실루엣 개수 시각화\n",
    "    for ind, n_cluster in enumerate(cluster_lists):\n",
    "       \n",
    "        # KMeans 클러스터링 수행하고, 실루엣 스코어와 개별 데이터의 실루엣 값 계산. \n",
    "        \n",
    "        clusterer = GaussianMixture(n_components = n_cluster)\n",
    "        clusterer.fit(X_features)\n",
    "        cluster_labels = clusterer.predict(X_features)\n",
    "        \n",
    "       \n",
    "        sil_avg = silhouette_score(X_features, cluster_labels)\n",
    "        sil_values = silhouette_samples(X_features, cluster_labels)\n",
    "       \n",
    "        y_lower = 10\n",
    "        axs[ind].set_title('Number of Cluster : '+ str(n_cluster)+'\\n' \\\n",
    "                          'Silhouette Score :' + str(round(sil_avg,3)) )\n",
    "        axs[ind].set_xlabel(\"The silhouette coefficient values\")\n",
    "        axs[ind].set_ylabel(\"Cluster label\")\n",
    "        axs[ind].set_xlim([-0.1, 1])\n",
    "        axs[ind].set_ylim([0, len(X_features) + (n_cluster + 1) * 10])\n",
    "        axs[ind].set_yticks([])  # Clear the yaxis labels / ticks\n",
    "        axs[ind].set_xticks([0, 0.2, 0.4, 0.6, 0.8, 1])\n",
    "       \n",
    "        # 클러스터링 갯수별로 fill_betweenx( )형태의 막대 그래프 표현. \n",
    "        for i in range(n_cluster):\n",
    "            ith_cluster_sil_values = sil_values[cluster_labels==i]\n",
    "            ith_cluster_sil_values.sort()\n",
    "           \n",
    "            size_cluster_i = ith_cluster_sil_values.shape[0]\n",
    "            y_upper = y_lower + size_cluster_i\n",
    "           \n",
    "            color = cm.nipy_spectral(float(i) / n_cluster)\n",
    "            axs[ind].fill_betweenx(np.arange(y_lower, y_upper), 0, ith_cluster_sil_values, \\\n",
    "                                facecolor=color, edgecolor=color, alpha=0.7)\n",
    "            axs[ind].text(-0.05, y_lower + 0.5 * size_cluster_i, str(i))\n",
    "            y_lower = y_upper + 10\n",
    "\n",
    "        axs[ind].axvline(x=sil_avg, color=\"red\", linestyle=\"--\")\n",
    "\n",
    "# make_blobs 을 통해 clustering 을 위한 4개의 클러스터 중심의 500개 2차원 데이터 셋 생성  \n",
    "from sklearn.datasets import make_blobs\n",
    "X, y = make_blobs(n_samples=500, n_features=2, centers=4, cluster_std=1, \\\n",
    "                  center_box=(-10.0, 10.0), shuffle=True, random_state=1)  \n",
    "\n",
    "# cluster 개수를 2개, 3개, 4개, 5개 일때의 클러스터별 실루엣 계수 평균값을 시각화 \n",
    "visualize_silhouette([ 2,3,4,5,6,7],input_data.iloc[:,[0,1]])"
   ]
  },
  {
   "cell_type": "code",
   "execution_count": 35,
   "id": "c80148e8-de92-4b65-9f77-990b716255e0",
   "metadata": {},
   "outputs": [
    {
     "data": {
      "image/png": "[encoded data removed]",
      "text/plain": [
       "<Figure size 432x288 with 1 Axes>"
      ]
     },
     "metadata": {},
     "output_type": "display_data"
    }
   ],
   "source": [
    "def elbow(X):\n",
    "    sse = []\n",
    "\n",
    "    for i in range(1,11):\n",
    "        clusterer = KMeans(n_clusters = i, max_iter=500, random_state=0)\n",
    "        clusterer.fit(X)\n",
    "        sse.append(clusterer.inertia_)\n",
    "\n",
    "    plt.plot(range(1,11), sse, marker='o')\n",
    "    plt.xlabel('K')\n",
    "    plt.ylabel('SSE')\n",
    "    plt.show()\n",
    "\n",
    "elbow(input_data.values)"
   ]
  },
  {
   "cell_type": "code",
   "execution_count": null,
   "id": "db992f8a-fe99-4fd9-bee1-50c1261a661c",
   "metadata": {},
   "outputs": [],
   "source": []
  }
 ],
 "metadata": {
  "kernelspec": {
   "display_name": "Python 3",
   "language": "python",
   "name": "python3"
  },
  "language_info": {
   "codemirror_mode": {
    "name": "ipython",
    "version": 3
   },
   "file_extension": ".py",
   "mimetype": "text/x-python",
   "name": "python",
   "nbconvert_exporter": "python",
   "pygments_lexer": "ipython3",
   "version": "3.8.8"
  }
 },
 "nbformat": 4,
 "nbformat_minor": 5
}
