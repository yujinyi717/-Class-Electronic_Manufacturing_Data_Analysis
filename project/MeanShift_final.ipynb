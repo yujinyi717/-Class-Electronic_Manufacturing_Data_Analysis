{
 "cells": [
  {
   "cell_type": "markdown",
   "id": "42622654",
   "metadata": {},
   "source": [
    "# Module"
   ]
  },
  {
   "cell_type": "code",
   "execution_count": 1,
   "id": "c399b213",
   "metadata": {
    "ExecuteTime": {
     "end_time": "2021-12-12T05:08:02.857067Z",
     "start_time": "2021-12-12T05:08:01.131652Z"
    }
   },
   "outputs": [],
   "source": [
    "import os \n",
    "import time\n",
    "import platform \n",
    "import datetime \n",
    "\n",
    "import numpy as np \n",
    "import pandas as pd\n",
    "import seaborn as sns \n",
    "from itertools import cycle\n",
    "\n",
    "from termcolor import colored as cl \n",
    "from mpl_toolkits.mplot3d import Axes3D\n",
    "from typing import collections, List, Tuple\n",
    "\n",
    "import matplotlib.pyplot as plt\n",
    "from matplotlib import font_manager, rc\n",
    "\n",
    "from sklearn.cluster import MeanShift\n",
    "from sklearn.cluster import estimate_bandwidth\n",
    "from sklearn.preprocessing import StandardScaler\n",
    "\n",
    "# 폰트 깨지지 않게 하는 것 \n",
    "plt.rcParams['axes.unicode_minus']= False\n",
    "\n",
    "if platform.system() == 'Darwin': # 맥os 사용자의 경우에\n",
    "    plt.style.use('seaborn-darkgrid') \n",
    "    rc('font', family = 'AppleGothic')\n",
    "    \n",
    "elif platform.system() == 'Windows':# 윈도우 사용자의 경우에\n",
    "    path = 'c:/Windows/Fonts/malgun.ttf'\n",
    "    font_name = font_manager.FontProperties(fname=path).get_name()\n",
    "    plt.style.use('seaborn-darkgrid') # https://python-graph-gallery.com/199-matplotlib-style-sheets/\n",
    "    rc('font', family=font_name)"
   ]
  },
  {
   "cell_type": "markdown",
   "id": "fb044c9c",
   "metadata": {},
   "source": [
    "# Data "
   ]
  },
  {
   "cell_type": "code",
   "execution_count": 2,
   "id": "ec7284cf",
   "metadata": {
    "ExecuteTime": {
     "end_time": "2021-12-12T05:08:13.349052Z",
     "start_time": "2021-12-12T05:08:04.985386Z"
    }
   },
   "outputs": [],
   "source": [
    "os.chdir(\"C:/Users/user/OneDrive - 서울과학기술대학교/바탕 화면/code blue/전자제조팀프로젝트/dataset\")\n",
    "df = pd.read_excel(\"./pp_data.xlsx\", engine=\"openpyxl\")\n",
    "error = pd.read_excel(\"./Press_error.xlsx\", engine=\"openpyxl\")\n",
    "\n",
    "del df[\"Unnamed: 0\"]\n",
    "\n",
    "new_data = df[[\"Pressure 1\", \"Pressure 2\"]]\n",
    "new_data2 = new_data.copy()\n",
    "\n",
    "data_scaled = StandardScaler().fit_transform(new_data)"
   ]
  },
  {
   "cell_type": "markdown",
   "id": "4e7f5d63",
   "metadata": {},
   "source": [
    "# MeanShift"
   ]
  },
  {
   "cell_type": "code",
   "execution_count": 5,
   "id": "d1ac2ef6",
   "metadata": {
    "ExecuteTime": {
     "end_time": "2021-12-12T05:08:16.627898Z",
     "start_time": "2021-12-12T05:08:16.617924Z"
    }
   },
   "outputs": [],
   "source": [
    "def get_ms(number: int, data: List[float] ) -> None:\n",
    "    start = time.time()\n",
    "    ms = MeanShift(\n",
    "                bandwidth=number,\n",
    "                n_jobs=-1,\n",
    "                max_iter=300,\n",
    "                bin_seeding=True)\n",
    "    cluster_labels = ms.fit_predict(data)\n",
    "    end= time.time()\n",
    "    print('소요시간 : ', round(end-start, 2))\n",
    "    print('cluster labels 유형 : ', np.unique(cluster_labels))\n",
    "    if len(np.unique(cluster_labels)) == 4:\n",
    "        print(ms.get_params())\n",
    "\n",
    "    print('-' * 30)\n",
    "    print()"
   ]
  },
  {
   "cell_type": "markdown",
   "id": "1c0da0ff",
   "metadata": {},
   "source": [
    "## 최적 하이퍼파라미터 "
   ]
  },
  {
   "cell_type": "code",
   "execution_count": 6,
   "id": "c2e4ec8c",
   "metadata": {
    "ExecuteTime": {
     "end_time": "2021-12-12T05:08:44.107716Z",
     "start_time": "2021-12-12T05:08:19.242175Z"
    },
    "scrolled": false
   },
   "outputs": [
    {
     "name": "stdout",
     "output_type": "stream",
     "text": [
      "소요시간 :  3.95\n",
      "cluster labels 유형 :  [ 0  1  2  3  4  5  6  7  8  9 10 11 12]\n",
      "------------------------------\n",
      "\n",
      "소요시간 :  0.98\n",
      "cluster labels 유형 :  [0 1 2 3 4 5 6 7 8]\n",
      "------------------------------\n",
      "\n",
      "소요시간 :  0.9\n",
      "cluster labels 유형 :  [0 1 2 3 4 5 6]\n",
      "------------------------------\n",
      "\n",
      "소요시간 :  0.83\n",
      "cluster labels 유형 :  [0 1 2 3 4 5]\n",
      "------------------------------\n",
      "\n",
      "소요시간 :  0.78\n",
      "cluster labels 유형 :  [0 1 2 3]\n",
      "{'bandwidth': 5, 'bin_seeding': True, 'cluster_all': True, 'max_iter': 300, 'min_bin_freq': 1, 'n_jobs': -1, 'seeds': None}\n",
      "------------------------------\n",
      "\n",
      "소요시간 :  0.78\n",
      "cluster labels 유형 :  [0 1 2]\n",
      "------------------------------\n",
      "\n",
      "소요시간 :  0.75\n",
      "cluster labels 유형 :  [0 1 2]\n",
      "------------------------------\n",
      "\n",
      "소요시간 :  0.71\n",
      "cluster labels 유형 :  [0 1]\n",
      "------------------------------\n",
      "\n",
      "소요시간 :  0.71\n",
      "cluster labels 유형 :  [0 1]\n",
      "------------------------------\n",
      "\n",
      "소요시간 :  0.72\n",
      "cluster labels 유형 :  [0 1]\n",
      "------------------------------\n",
      "\n",
      "소요시간 :  0.72\n",
      "cluster labels 유형 :  [0 1]\n",
      "------------------------------\n",
      "\n",
      "소요시간 :  0.71\n",
      "cluster labels 유형 :  [0 1]\n",
      "------------------------------\n",
      "\n",
      "소요시간 :  0.7\n",
      "cluster labels 유형 :  [0 1]\n",
      "------------------------------\n",
      "\n",
      "소요시간 :  0.7\n",
      "cluster labels 유형 :  [0]\n",
      "------------------------------\n",
      "\n",
      "소요시간 :  0.69\n",
      "cluster labels 유형 :  [0]\n",
      "------------------------------\n",
      "\n",
      "소요시간 :  0.7\n",
      "cluster labels 유형 :  [0]\n",
      "------------------------------\n",
      "\n",
      "소요시간 :  0.69\n",
      "cluster labels 유형 :  [0]\n",
      "------------------------------\n",
      "\n",
      "소요시간 :  0.69\n",
      "cluster labels 유형 :  [0]\n",
      "------------------------------\n",
      "\n",
      "소요시간 :  0.67\n",
      "cluster labels 유형 :  [0]\n",
      "------------------------------\n",
      "\n",
      "소요시간 :  0.68\n",
      "cluster labels 유형 :  [0]\n",
      "------------------------------\n",
      "\n",
      "소요시간 :  0.68\n",
      "cluster labels 유형 :  [0]\n",
      "------------------------------\n",
      "\n",
      "소요시간 :  0.69\n",
      "cluster labels 유형 :  [0]\n",
      "------------------------------\n",
      "\n",
      "소요시간 :  0.69\n",
      "cluster labels 유형 :  [0]\n",
      "------------------------------\n",
      "\n",
      "소요시간 :  0.68\n",
      "cluster labels 유형 :  [0]\n",
      "------------------------------\n",
      "\n",
      "소요시간 :  0.67\n",
      "cluster labels 유형 :  [0]\n",
      "------------------------------\n",
      "\n",
      "소요시간 :  0.67\n",
      "cluster labels 유형 :  [0]\n",
      "------------------------------\n",
      "\n",
      "소요시간 :  0.68\n",
      "cluster labels 유형 :  [0]\n",
      "------------------------------\n",
      "\n",
      "소요시간 :  0.67\n",
      "cluster labels 유형 :  [0]\n",
      "------------------------------\n",
      "\n",
      "소요시간 :  0.67\n",
      "cluster labels 유형 :  [0]\n",
      "------------------------------\n",
      "\n",
      "소요시간 :  0.68\n",
      "cluster labels 유형 :  [0]\n",
      "------------------------------\n",
      "\n"
     ]
    }
   ],
   "source": [
    "for i in range(1, 31):\n",
    "    get_ms(i, data_scaled)"
   ]
  },
  {
   "cell_type": "markdown",
   "id": "c515a9ce",
   "metadata": {},
   "source": [
    "## 최적 bandwidth"
   ]
  },
  {
   "cell_type": "code",
   "execution_count": 7,
   "id": "40547fcb",
   "metadata": {
    "ExecuteTime": {
     "end_time": "2021-12-12T05:08:48.428983Z",
     "start_time": "2021-12-12T05:08:47.476525Z"
    }
   },
   "outputs": [
    {
     "name": "stdout",
     "output_type": "stream",
     "text": [
      "time :  0.76\n",
      "number of estimated clusters : 4\n",
      "cluster labels 유형 :  [0 1 2 3]\n",
      "HyperParameters :  {'bandwidth': 5, 'bin_seeding': True, 'cluster_all': True, 'max_iter': 300, 'min_bin_freq': 1, 'n_jobs': -1, 'seeds': None}\n",
      "------------------------------------------------------------\n",
      "\n"
     ]
    },
    {
     "data": {
      "image/png": "[encoded data removed]",
      "text/plain": [
       "<Figure size 864x720 with 1 Axes>"
      ]
     },
     "metadata": {},
     "output_type": "display_data"
    }
   ],
   "source": [
    "start = time.time()\n",
    "ms = MeanShift(\n",
    "            bandwidth=5,\n",
    "            n_jobs=-1,\n",
    "            max_iter=300,\n",
    "            bin_seeding=True)\n",
    "cluster_labels = ms.fit_predict(data_scaled)\n",
    "\n",
    "cluster_centers = ms.cluster_centers_\n",
    "labels = ms.labels_\n",
    "labels_unique = np.unique(cluster_labels)\n",
    "n_clusters = len(labels_unique\n",
    ")\n",
    "end= time.time()\n",
    "print('time : ', round(end-start, 2))\n",
    "print('number of estimated clusters : %d' % n_clusters)\n",
    "print('cluster labels 유형 : ', labels_unique)\n",
    "print('HyperParameters : ', ms.get_params())\n",
    "print('-' * 60)\n",
    "print()\n",
    "\n",
    "# ########################################################################\n",
    "# Plot result \n",
    "\n",
    "plt.figure(figsize=(12,10))\n",
    "plt.clf()\n",
    "\n",
    "colors = cycle(\"bgrcmykbgrcmykbgrcmykbgrcmyk\")\n",
    "for k, col in zip(range(n_clusters), colors):\n",
    "    my_members = labels == k\n",
    "    cluster_center = cluster_centers[k]\n",
    "    plt.plot(data_scaled[my_members, 0], data_scaled[my_members, 1], col + \".\")\n",
    "    plt.plot(\n",
    "        cluster_center[0],\n",
    "        cluster_center[1],\n",
    "        \"o\",\n",
    "        markerfacecolor=col,\n",
    "        markeredgecolor=\"k\",\n",
    "        markersize=14,\n",
    "    )\n",
    "plt.title('Estimated number of clusters: %d' % n_clusters)\n",
    "plt.show()"
   ]
  },
  {
   "cell_type": "markdown",
   "id": "54965db6",
   "metadata": {},
   "source": [
    "# 실루엣 스코어 "
   ]
  },
  {
   "cell_type": "code",
   "execution_count": 8,
   "id": "60758fe1",
   "metadata": {
    "ExecuteTime": {
     "end_time": "2021-12-12T05:18:52.066759Z",
     "start_time": "2021-12-12T05:08:54.682397Z"
    }
   },
   "outputs": [
    {
     "data": {
      "image/png": "[encoded data removed]",
      "text/plain": [
       "<Figure size 1152x288 with 4 Axes>"
      ]
     },
     "metadata": {},
     "output_type": "display_data"
    }
   ],
   "source": [
    "def visualize_silhouette(bandwidth_list: List[int], X_features: List[float]) -> None:\n",
    "    \n",
    "    import matplotlib.pyplot as plt\n",
    "    import matplotlib.cm as cm\n",
    "    import math\n",
    "    from sklearn.metrics import silhouette_samples, silhouette_score\n",
    "    \n",
    "    n_cols = len(bandwidth_list)\n",
    "\n",
    "    fig, axs = plt.subplots(figsize=(4 * n_cols, 4), nrows=1, ncols=n_cols)\n",
    "    \n",
    "    for ind, bandwidth in enumerate(bandwidth_list):\n",
    "        ms = MeanShift(\n",
    "                    bandwidth=bandwidth,\n",
    "                    n_jobs=-1,\n",
    "                    max_iter=300,\n",
    "                    bin_seeding=True)\n",
    "        cluster_labels = ms.fit_predict(X_features)\n",
    "\n",
    "        sil_avg = silhouette_score(X_features, cluster_labels)\n",
    "        sil_values = silhouette_samples(X_features, cluster_labels)\n",
    "        \n",
    "        y_lower = 10\n",
    "        cluster_count = len(np.unique(cluster_labels))\n",
    "        \n",
    "        axs[ind].set_title('Number of clusters : '+ str(len(np.unique(cluster_labels)))+'\\n' \\\n",
    "                           'Bandwidth : ' + str(bandwidth) + '\\n' \\\n",
    "                            'Silhouette Score :' + str(round(sil_avg,3)) )\n",
    "        axs[ind].set_xlabel(\"The silhouette coefficient values\")\n",
    "        axs[ind].set_ylabel(\"Cluster label\")\n",
    "        axs[ind].set_xlim([-0.1, 1])\n",
    "        axs[ind].set_ylim([0, len(X_features) + (bandwidth + 1) * 10])\n",
    "        axs[ind].set_yticks([])  # Clear the yaxis labels / ticks\n",
    "        axs[ind].set_xticks([0, 0.2, 0.4, 0.6, 0.8, 1])\n",
    "        \n",
    "\n",
    "        for i in range(cluster_count):\n",
    "            ith_cluster_sil_values = sil_values[cluster_labels == i]\n",
    "            ith_cluster_sil_values.sort()\n",
    "\n",
    "            size_cluster_i = ith_cluster_sil_values.shape[0]\n",
    "            y_upper = y_lower + size_cluster_i\n",
    "\n",
    "            color = cm.nipy_spectral(float(i) / cluster_count) # 이게 어떤 기능인지 모르겠음 \n",
    "            axs[ind].fill_betweenx(np.arange(y_lower, y_upper), 0, ith_cluster_sil_values, \\\n",
    "                                  facecolor = color, edgecolor = color, alpha = 0.7)\n",
    "            axs[ind].text(-0.05, y_lower + 0.5 * size_cluster_i, str(i))\n",
    "            y_lower = y_upper + 10\n",
    "            \n",
    "        axs[ind].axvline(x=sil_avg, color=\"red\", linestyle=\"--\")\n",
    "    \n",
    "b_list = range(4, 8)\n",
    "\n",
    "visualize_silhouette(b_list, data_scaled)"
   ]
  },
  {
   "cell_type": "markdown",
   "id": "4a8b82c6",
   "metadata": {},
   "source": [
    "# 시각화 - 파이차트 "
   ]
  },
  {
   "cell_type": "code",
   "execution_count": 9,
   "id": "9c89cfbb",
   "metadata": {
    "ExecuteTime": {
     "end_time": "2021-12-12T05:25:01.808713Z",
     "start_time": "2021-12-12T05:24:58.123932Z"
    }
   },
   "outputs": [],
   "source": [
    "ms = MeanShift(\n",
    "            bandwidth=5,\n",
    "            n_jobs=-1,\n",
    "            max_iter=300,\n",
    "            bin_seeding=True)\n",
    "cluster_labels = ms.fit_predict(data_scaled)\n"
   ]
  },
  {
   "cell_type": "code",
   "execution_count": 14,
   "id": "5b549309",
   "metadata": {
    "ExecuteTime": {
     "end_time": "2021-12-12T05:26:02.799177Z",
     "start_time": "2021-12-12T05:26:02.781773Z"
    }
   },
   "outputs": [
    {
     "data": {
      "text/html": [
       "<div>\n",
       "<style scoped>\n",
       "    .dataframe tbody tr th:only-of-type {\n",
       "        vertical-align: middle;\n",
       "    }\n",
       "\n",
       "    .dataframe tbody tr th {\n",
       "        vertical-align: top;\n",
       "    }\n",
       "\n",
       "    .dataframe thead th {\n",
       "        text-align: right;\n",
       "    }\n",
       "</style>\n",
       "<table border=\"1\" class=\"dataframe\">\n",
       "  <thead>\n",
       "    <tr style=\"text-align: right;\">\n",
       "      <th></th>\n",
       "      <th>Pressure 1</th>\n",
       "      <th>Pressure 2</th>\n",
       "      <th>cluster_label</th>\n",
       "    </tr>\n",
       "  </thead>\n",
       "  <tbody>\n",
       "    <tr>\n",
       "      <th>0</th>\n",
       "      <td>-0.065094</td>\n",
       "      <td>1.403449</td>\n",
       "      <td>0</td>\n",
       "    </tr>\n",
       "    <tr>\n",
       "      <th>1</th>\n",
       "      <td>-0.065094</td>\n",
       "      <td>1.403449</td>\n",
       "      <td>0</td>\n",
       "    </tr>\n",
       "    <tr>\n",
       "      <th>2</th>\n",
       "      <td>-0.065094</td>\n",
       "      <td>1.740766</td>\n",
       "      <td>0</td>\n",
       "    </tr>\n",
       "    <tr>\n",
       "      <th>3</th>\n",
       "      <td>-0.065094</td>\n",
       "      <td>1.740766</td>\n",
       "      <td>0</td>\n",
       "    </tr>\n",
       "    <tr>\n",
       "      <th>4</th>\n",
       "      <td>-0.447615</td>\n",
       "      <td>2.078082</td>\n",
       "      <td>0</td>\n",
       "    </tr>\n",
       "  </tbody>\n",
       "</table>\n",
       "</div>"
      ],
      "text/plain": [
       "   Pressure 1  Pressure 2  cluster_label\n",
       "0   -0.065094    1.403449              0\n",
       "1   -0.065094    1.403449              0\n",
       "2   -0.065094    1.740766              0\n",
       "3   -0.065094    1.740766              0\n",
       "4   -0.447615    2.078082              0"
      ]
     },
     "execution_count": 14,
     "metadata": {},
     "output_type": "execute_result"
    }
   ],
   "source": [
    "clu_data = pd.DataFrame(np.hstack((data_scaled, np.array([cluster_labels]).T)), \\\n",
    "                            columns=[\"Pressure 1\", \"Pressure 2\", \"cluster_label\"])\n",
    "clu_data = clu_data.astype({\"cluster_label\" : \"int\"})\n",
    "clu_data.head()"
   ]
  },
  {
   "cell_type": "code",
   "execution_count": 56,
   "id": "c20c8279",
   "metadata": {
    "ExecuteTime": {
     "end_time": "2021-12-12T06:39:36.308827Z",
     "start_time": "2021-12-12T06:39:36.111095Z"
    }
   },
   "outputs": [
    {
     "data": {
      "image/png": "[encoded data removed]",
      "text/plain": [
       "<Figure size 720x360 with 1 Axes>"
      ]
     },
     "metadata": {},
     "output_type": "display_data"
    }
   ],
   "source": [
    "label_name = []\n",
    "sizes = []\n",
    "colors = ['#ff9999', '#ffc000', '#8fd9b6', '#d395d0']\n",
    "explode = [0.5, 0.3, 0.5, 0.5]\n",
    "\n",
    "for i in np.unique(cluster_labels).tolist():\n",
    "    label_name.append(\"cluster_\" + str(i))\n",
    "    sizes.append(collections.Counter(clu_data[\"cluster_label\"])[i])\n",
    "    \n",
    "plt.figure(figsize=(10,5))\n",
    "plt.pie(sizes,shadow=False,startangle=50,autopct='%1.2f%%',colors=colors,explode=explode)\n",
    "plt.title(\"Cluster Distribution press\",position=(0.5,1.2),fontsize=20)\n",
    "plt.legend(label_name)\n",
    "plt.show()"
   ]
  },
  {
   "cell_type": "code",
   "execution_count": 98,
   "id": "28a1143e",
   "metadata": {
    "ExecuteTime": {
     "end_time": "2021-12-12T07:09:20.786482Z",
     "start_time": "2021-12-12T07:09:20.777474Z"
    }
   },
   "outputs": [
    {
     "data": {
      "text/html": [
       "<div>\n",
       "<style scoped>\n",
       "    .dataframe tbody tr th:only-of-type {\n",
       "        vertical-align: middle;\n",
       "    }\n",
       "\n",
       "    .dataframe tbody tr th {\n",
       "        vertical-align: top;\n",
       "    }\n",
       "\n",
       "    .dataframe thead th {\n",
       "        text-align: right;\n",
       "    }\n",
       "</style>\n",
       "<table border=\"1\" class=\"dataframe\">\n",
       "  <thead>\n",
       "    <tr style=\"text-align: right;\">\n",
       "      <th></th>\n",
       "      <th>cluster_label</th>\n",
       "    </tr>\n",
       "  </thead>\n",
       "  <tbody>\n",
       "    <tr>\n",
       "      <th>0</th>\n",
       "      <td>62178</td>\n",
       "    </tr>\n",
       "    <tr>\n",
       "      <th>1</th>\n",
       "      <td>515</td>\n",
       "    </tr>\n",
       "    <tr>\n",
       "      <th>2</th>\n",
       "      <td>16</td>\n",
       "    </tr>\n",
       "    <tr>\n",
       "      <th>3</th>\n",
       "      <td>16</td>\n",
       "    </tr>\n",
       "  </tbody>\n",
       "</table>\n",
       "</div>"
      ],
      "text/plain": [
       "   cluster_label\n",
       "0          62178\n",
       "1            515\n",
       "2             16\n",
       "3             16"
      ]
     },
     "execution_count": 98,
     "metadata": {},
     "output_type": "execute_result"
    }
   ],
   "source": [
    "pd.DataFrame(clu_data[\"cluster_label\"].value_counts())"
   ]
  },
  {
   "cell_type": "code",
   "execution_count": 74,
   "id": "9b1ef7e1",
   "metadata": {
    "ExecuteTime": {
     "end_time": "2021-12-12T06:50:14.108966Z",
     "start_time": "2021-12-12T06:50:14.089047Z"
    }
   },
   "outputs": [
    {
     "data": {
      "text/plain": [
       "dict_items([(0, 62178), (2, 16), (3, 16), (1, 515)])"
      ]
     },
     "execution_count": 74,
     "metadata": {},
     "output_type": "execute_result"
    }
   ],
   "source": [
    "collections.Counter(clu_data[\"cluster_label\"]).items()"
   ]
  },
  {
   "cell_type": "code",
   "execution_count": 97,
   "id": "76f5b369",
   "metadata": {
    "ExecuteTime": {
     "end_time": "2021-12-12T07:06:07.607307Z",
     "start_time": "2021-12-12T07:06:07.490612Z"
    }
   },
   "outputs": [
    {
     "data": {
      "image/png": "[encoded data removed]",
      "text/plain": [
       "<Figure size 432x288 with 1 Axes>"
      ]
     },
     "metadata": {},
     "output_type": "display_data"
    }
   ],
   "source": [
    "index = []\n",
    "values = []\n",
    "for key, val in collections.Counter(clu_data[\"cluster_label\"]).items():\n",
    "    index.append(key)\n",
    "    values.append(val)\n",
    "\n",
    "plt.bar(index, values, color = colors)    \n",
    "plt.title(\"클러스터 별 분포\")\n",
    "plt.xlabel(\"Cluster Label\", fontsize=18)\n",
    "plt.xticks(index)\n",
    "plt.show()"
   ]
  },
  {
   "cell_type": "code",
   "execution_count": 21,
   "id": "9b2908a5",
   "metadata": {
    "ExecuteTime": {
     "end_time": "2021-12-12T05:47:57.090916Z",
     "start_time": "2021-12-12T05:47:57.068536Z"
    }
   },
   "outputs": [
    {
     "data": {
      "text/html": [
       "<div>\n",
       "<style scoped>\n",
       "    .dataframe tbody tr th:only-of-type {\n",
       "        vertical-align: middle;\n",
       "    }\n",
       "\n",
       "    .dataframe tbody tr th {\n",
       "        vertical-align: top;\n",
       "    }\n",
       "\n",
       "    .dataframe thead th {\n",
       "        text-align: right;\n",
       "    }\n",
       "</style>\n",
       "<table border=\"1\" class=\"dataframe\">\n",
       "  <thead>\n",
       "    <tr style=\"text-align: right;\">\n",
       "      <th></th>\n",
       "      <th>Pressure 1</th>\n",
       "      <th>Pressure 2</th>\n",
       "    </tr>\n",
       "    <tr>\n",
       "      <th>cluster_label</th>\n",
       "      <th></th>\n",
       "      <th></th>\n",
       "    </tr>\n",
       "  </thead>\n",
       "  <tbody>\n",
       "    <tr>\n",
       "      <th>0</th>\n",
       "      <td>-0.068925</td>\n",
       "      <td>-0.010223</td>\n",
       "    </tr>\n",
       "    <tr>\n",
       "      <th>1</th>\n",
       "      <td>9.329506</td>\n",
       "      <td>1.273042</td>\n",
       "    </tr>\n",
       "    <tr>\n",
       "      <th>2</th>\n",
       "      <td>-23.123927</td>\n",
       "      <td>-0.030146</td>\n",
       "    </tr>\n",
       "    <tr>\n",
       "      <th>3</th>\n",
       "      <td>-9.317316</td>\n",
       "      <td>-1.219186</td>\n",
       "    </tr>\n",
       "  </tbody>\n",
       "</table>\n",
       "</div>"
      ],
      "text/plain": [
       "               Pressure 1  Pressure 2\n",
       "cluster_label                        \n",
       "0               -0.068925   -0.010223\n",
       "1                9.329506    1.273042\n",
       "2              -23.123927   -0.030146\n",
       "3               -9.317316   -1.219186"
      ]
     },
     "execution_count": 21,
     "metadata": {},
     "output_type": "execute_result"
    }
   ],
   "source": [
    "clu_data.groupby([\"cluster_label\"]).mean()"
   ]
  },
  {
   "cell_type": "code",
   "execution_count": 34,
   "id": "e93357db",
   "metadata": {
    "ExecuteTime": {
     "end_time": "2021-12-12T06:19:02.317813Z",
     "start_time": "2021-12-12T06:19:02.149760Z"
    }
   },
   "outputs": [
    {
     "data": {
      "image/png": "[encoded data removed]",
      "text/plain": [
       "<Figure size 432x288 with 1 Axes>"
      ]
     },
     "metadata": {},
     "output_type": "display_data"
    },
    {
     "data": {
      "text/plain": [
       "<Figure size 864x576 with 0 Axes>"
      ]
     },
     "metadata": {},
     "output_type": "display_data"
    }
   ],
   "source": [
    "clu_data_mean = clu_data.groupby([\"cluster_label\"]).mean()\n",
    "clu_data_mean.plot.bar(color = ['#ff9999', '#ffc000', '#8fd9b6', '#d395d0'])\n",
    "plt.figure(figsize=(12,8))\n",
    "plt.show()"
   ]
  },
  {
   "cell_type": "code",
   "execution_count": 32,
   "id": "b5fe897d",
   "metadata": {
    "ExecuteTime": {
     "end_time": "2021-12-12T06:02:00.350832Z",
     "start_time": "2021-12-12T06:02:00.203432Z"
    }
   },
   "outputs": [
    {
     "data": {
      "text/plain": [
       "<AxesSubplot:>"
      ]
     },
     "execution_count": 32,
     "metadata": {},
     "output_type": "execute_result"
    },
    {
     "data": {
      "image/png": "[encoded data removed]",
      "text/plain": [
       "<Figure size 432x288 with 1 Axes>"
      ]
     },
     "metadata": {},
     "output_type": "display_data"
    }
   ],
   "source": [
    "clu_data[[\"Pressure 1\", \"Pressure 2\"]].plot(kind=\"box\")"
   ]
  }
 ],
 "metadata": {
  "kernelspec": {
   "display_name": "Python 3",
   "language": "python",
   "name": "python3"
  },
  "language_info": {
   "codemirror_mode": {
    "name": "ipython",
    "version": 3
   },
   "file_extension": ".py",
   "mimetype": "text/x-python",
   "name": "python",
   "nbconvert_exporter": "python",
   "pygments_lexer": "ipython3",
   "version": "3.8.8"
  },
  "toc": {
   "base_numbering": 1,
   "nav_menu": {},
   "number_sections": true,
   "sideBar": true,
   "skip_h1_title": false,
   "title_cell": "Table of Contents",
   "title_sidebar": "Contents",
   "toc_cell": false,
   "toc_position": {},
   "toc_section_display": true,
   "toc_window_display": false
  },
  "varInspector": {
   "cols": {
    "lenName": 16,
    "lenType": 16,
    "lenVar": 40
   },
   "kernels_config": {
    "python": {
     "delete_cmd_postfix": "",
     "delete_cmd_prefix": "del ",
     "library": "var_list.py",
     "varRefreshCmd": "print(var_dic_list())"
    },
    "r": {
     "delete_cmd_postfix": ") ",
     "delete_cmd_prefix": "rm(",
     "library": "var_list.r",
     "varRefreshCmd": "cat(var_dic_list()) "
    }
   },
   "types_to_exclude": [
    "module",
    "function",
    "builtin_function_or_method",
    "instance",
    "_Feature"
   ],
   "window_display": false
  }
 },
 "nbformat": 4,
 "nbformat_minor": 5
}
